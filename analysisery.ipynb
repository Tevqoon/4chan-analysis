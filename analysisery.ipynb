{
 "cells": [
  {
   "cell_type": "markdown",
   "id": "essential-experiment",
   "metadata": {},
   "source": [
    "# Besedni zaklad na spletnem portalu 4chan\n",
    "### Projektna naloga"
   ]
  },
  {
   "cell_type": "markdown",
   "id": "wooden-balance",
   "metadata": {},
   "source": [
    "## Priprava podatkov\n",
    "\n",
    "Najprej uvozimo podatke, ki jih nameravamo uporabljati. V tem primeru imamo poleg podatkovne množice, generirane s *scrapery.py*, še *lexicon*, pridobljen [tukaj](http://www.lexique.org/?page_id=250), frekvenčni leksikon, med drugim baziran na objavah iz Twitterja. Le-tega uporabimo kot osnovnico naših frekvenčnih leksikonov. Naša druga zunanja podatkovna množica je seznam angleških obscenih besed. Prirejena je po [tem](https://data.world/wordlists/dirty-naughty-obscene-and-otherwise-bad-words-in-english) viru - v predprocesiranju smo obdržali le enobesedne vulgarnice.\n",
    "\n",
    "Poleg tega definiramo pomožna seznama *boards* ter *countries*, ki iz objav pobereta seznam boardov in držav izvora posameznih objav. Koristili bota pri kasnejših analizah.\n",
    "\n",
    "Uporabljam podatke postopoma zajete med nočjo 11.2.2021 in popoldnevom naslednjega dne (skozi dan je bilo dodanih nekaj boardov)."
   ]
  },
  {
   "cell_type": "code",
   "execution_count": 459,
   "id": "isolated-lightning",
   "metadata": {
    "scrolled": false
   },
   "outputs": [
    {
     "name": "stderr",
     "output_type": "stream",
     "text": [
      "/Users/jure/Library/Python/3.9/lib/python/site-packages/IPython/core/interactiveshell.py:3155: DtypeWarning: Columns (3) have mixed types.Specify dtype option on import or set low_memory=False.\n",
      "  has_raised = await self.run_ast_nodes(code_ast.body, cell_name,\n"
     ]
    }
   ],
   "source": [
    "import pandas as pd\n",
    "import numpy as np\n",
    "\n",
    "low_memory=False\n",
    "pd.options.display.max_rows = 30\n",
    "%matplotlib inline\n",
    "\n",
    "\n",
    "posts = pd.read_csv(\"data/datasets/total_dataset.csv\")\n",
    "lexicon = pd.read_csv(\"data/datasets/lexique_english.csv\")[[\"Word\", \"TwitterFreqPm\"]].rename(columns={\"TwitterFreqPm\" : \"FreqPM\"})\n",
    "\n",
    "boards = list(posts.board.unique())\n",
    "countries = list(posts.country_name.unique())\n",
    "\n",
    "with open(\"data/datasets/profanity.csv\", \"r\") as f:\n",
    "        profanity = f.read().split('\\n')\n",
    "    \n"
   ]
  },
  {
   "cell_type": "markdown",
   "id": "bulgarian-rainbow",
   "metadata": {},
   "source": [
    "Kot vidimo, nam v tej obliki podatki ne povejo prav veliko, zato bomo kar hitro začeli z obravnavo frekvenčnih leksikonov."
   ]
  },
  {
   "cell_type": "code",
   "execution_count": 460,
   "id": "south-colleague",
   "metadata": {},
   "outputs": [
    {
     "data": {
      "text/html": [
       "<div>\n",
       "<style scoped>\n",
       "    .dataframe tbody tr th:only-of-type {\n",
       "        vertical-align: middle;\n",
       "    }\n",
       "\n",
       "    .dataframe tbody tr th {\n",
       "        vertical-align: top;\n",
       "    }\n",
       "\n",
       "    .dataframe thead th {\n",
       "        text-align: right;\n",
       "    }\n",
       "</style>\n",
       "<table border=\"1\" class=\"dataframe\">\n",
       "  <thead>\n",
       "    <tr style=\"text-align: right;\">\n",
       "      <th></th>\n",
       "      <th>no</th>\n",
       "      <th>resto</th>\n",
       "      <th>now</th>\n",
       "      <th>country_name</th>\n",
       "      <th>com</th>\n",
       "      <th>replies</th>\n",
       "      <th>board</th>\n",
       "    </tr>\n",
       "  </thead>\n",
       "  <tbody>\n",
       "    <tr>\n",
       "      <th>0</th>\n",
       "      <td>307559833</td>\n",
       "      <td>0</td>\n",
       "      <td>02/10/21(Wed)22:38:12</td>\n",
       "      <td>Commie</td>\n",
       "      <td>what the hell is wrong with the tiktok black a...</td>\n",
       "      <td>2.0</td>\n",
       "      <td>pol</td>\n",
       "    </tr>\n",
       "    <tr>\n",
       "      <th>1</th>\n",
       "      <td>307559956</td>\n",
       "      <td>307559833</td>\n",
       "      <td>02/10/21(Wed)22:39:23</td>\n",
       "      <td>United States</td>\n",
       "      <td>fake amp gay slide thread</td>\n",
       "      <td>NaN</td>\n",
       "      <td>pol</td>\n",
       "    </tr>\n",
       "    <tr>\n",
       "      <th>2</th>\n",
       "      <td>307559978</td>\n",
       "      <td>307559833</td>\n",
       "      <td>02/10/21(Wed)22:39:37</td>\n",
       "      <td>Commie</td>\n",
       "      <td>she no white tik tok no problem</td>\n",
       "      <td>NaN</td>\n",
       "      <td>pol</td>\n",
       "    </tr>\n",
       "    <tr>\n",
       "      <th>3</th>\n",
       "      <td>307553218</td>\n",
       "      <td>0</td>\n",
       "      <td>02/10/21(Wed)21:38:37</td>\n",
       "      <td>Canada</td>\n",
       "      <td>help me could a b rother help me out</td>\n",
       "      <td>17.0</td>\n",
       "      <td>pol</td>\n",
       "    </tr>\n",
       "    <tr>\n",
       "      <th>4</th>\n",
       "      <td>307555431</td>\n",
       "      <td>307553218</td>\n",
       "      <td>02/10/21(Wed)21:58:37</td>\n",
       "      <td>United States</td>\n",
       "      <td>NaN</td>\n",
       "      <td>NaN</td>\n",
       "      <td>pol</td>\n",
       "    </tr>\n",
       "    <tr>\n",
       "      <th>...</th>\n",
       "      <td>...</td>\n",
       "      <td>...</td>\n",
       "      <td>...</td>\n",
       "      <td>...</td>\n",
       "      <td>...</td>\n",
       "      <td>...</td>\n",
       "      <td>...</td>\n",
       "    </tr>\n",
       "    <tr>\n",
       "      <th>206110</th>\n",
       "      <td>216228239</td>\n",
       "      <td>216228103</td>\n",
       "      <td>02/11/21(Thu)12:43:15</td>\n",
       "      <td>NaN</td>\n",
       "      <td>sneed</td>\n",
       "      <td>NaN</td>\n",
       "      <td>a</td>\n",
       "    </tr>\n",
       "    <tr>\n",
       "      <th>206111</th>\n",
       "      <td>216229527</td>\n",
       "      <td>216228103</td>\n",
       "      <td>02/11/21(Thu)13:06:05</td>\n",
       "      <td>NaN</td>\n",
       "      <td>the part would have been way better if it was ...</td>\n",
       "      <td>NaN</td>\n",
       "      <td>a</td>\n",
       "    </tr>\n",
       "    <tr>\n",
       "      <th>206112</th>\n",
       "      <td>216229596</td>\n",
       "      <td>216228103</td>\n",
       "      <td>02/11/21(Thu)13:07:07</td>\n",
       "      <td>NaN</td>\n",
       "      <td>the only fun parts are josuke and the other in...</td>\n",
       "      <td>NaN</td>\n",
       "      <td>a</td>\n",
       "    </tr>\n",
       "    <tr>\n",
       "      <th>206113</th>\n",
       "      <td>216231238</td>\n",
       "      <td>216228103</td>\n",
       "      <td>02/11/21(Thu)13:36:19</td>\n",
       "      <td>NaN</td>\n",
       "      <td>who</td>\n",
       "      <td>NaN</td>\n",
       "      <td>a</td>\n",
       "    </tr>\n",
       "    <tr>\n",
       "      <th>206114</th>\n",
       "      <td>216233169</td>\n",
       "      <td>216228103</td>\n",
       "      <td>02/11/21(Thu)14:11:59</td>\n",
       "      <td>NaN</td>\n",
       "      <td>i share the same thoughts op tbqhwyff to be qu...</td>\n",
       "      <td>NaN</td>\n",
       "      <td>a</td>\n",
       "    </tr>\n",
       "  </tbody>\n",
       "</table>\n",
       "<p>206115 rows × 7 columns</p>\n",
       "</div>"
      ],
      "text/plain": [
       "               no      resto                    now   country_name  \\\n",
       "0       307559833          0  02/10/21(Wed)22:38:12         Commie   \n",
       "1       307559956  307559833  02/10/21(Wed)22:39:23  United States   \n",
       "2       307559978  307559833  02/10/21(Wed)22:39:37         Commie   \n",
       "3       307553218          0  02/10/21(Wed)21:38:37         Canada   \n",
       "4       307555431  307553218  02/10/21(Wed)21:58:37  United States   \n",
       "...           ...        ...                    ...            ...   \n",
       "206110  216228239  216228103  02/11/21(Thu)12:43:15            NaN   \n",
       "206111  216229527  216228103  02/11/21(Thu)13:06:05            NaN   \n",
       "206112  216229596  216228103  02/11/21(Thu)13:07:07            NaN   \n",
       "206113  216231238  216228103  02/11/21(Thu)13:36:19            NaN   \n",
       "206114  216233169  216228103  02/11/21(Thu)14:11:59            NaN   \n",
       "\n",
       "                                                      com  replies board  \n",
       "0       what the hell is wrong with the tiktok black a...      2.0   pol  \n",
       "1                               fake amp gay slide thread      NaN   pol  \n",
       "2                         she no white tik tok no problem      NaN   pol  \n",
       "3                    help me could a b rother help me out     17.0   pol  \n",
       "4                                                     NaN      NaN   pol  \n",
       "...                                                   ...      ...   ...  \n",
       "206110                                              sneed      NaN     a  \n",
       "206111  the part would have been way better if it was ...      NaN     a  \n",
       "206112  the only fun parts are josuke and the other in...      NaN     a  \n",
       "206113                                                who      NaN     a  \n",
       "206114  i share the same thoughts op tbqhwyff to be qu...      NaN     a  \n",
       "\n",
       "[206115 rows x 7 columns]"
      ]
     },
     "execution_count": 460,
     "metadata": {},
     "output_type": "execute_result"
    }
   ],
   "source": [
    "posts"
   ]
  },
  {
   "cell_type": "markdown",
   "id": "norman-skating",
   "metadata": {},
   "source": [
    "Naš Twitter leksikon ima pričakovano obliko. Za posamezno besedo imamo njeno frekvenco na miljon besed."
   ]
  },
  {
   "cell_type": "code",
   "execution_count": 461,
   "id": "global-operation",
   "metadata": {},
   "outputs": [
    {
     "data": {
      "text/html": [
       "<div>\n",
       "<style scoped>\n",
       "    .dataframe tbody tr th:only-of-type {\n",
       "        vertical-align: middle;\n",
       "    }\n",
       "\n",
       "    .dataframe tbody tr th {\n",
       "        vertical-align: top;\n",
       "    }\n",
       "\n",
       "    .dataframe thead th {\n",
       "        text-align: right;\n",
       "    }\n",
       "</style>\n",
       "<table border=\"1\" class=\"dataframe\">\n",
       "  <thead>\n",
       "    <tr style=\"text-align: right;\">\n",
       "      <th></th>\n",
       "      <th>Word</th>\n",
       "      <th>FreqPM</th>\n",
       "    </tr>\n",
       "  </thead>\n",
       "  <tbody>\n",
       "    <tr>\n",
       "      <th>0</th>\n",
       "      <td>the</td>\n",
       "      <td>30240.5631</td>\n",
       "    </tr>\n",
       "    <tr>\n",
       "      <th>1</th>\n",
       "      <td>and</td>\n",
       "      <td>14144.8212</td>\n",
       "    </tr>\n",
       "    <tr>\n",
       "      <th>2</th>\n",
       "      <td>to</td>\n",
       "      <td>25419.6557</td>\n",
       "    </tr>\n",
       "    <tr>\n",
       "      <th>3</th>\n",
       "      <td>i</td>\n",
       "      <td>29597.6592</td>\n",
       "    </tr>\n",
       "    <tr>\n",
       "      <th>4</th>\n",
       "      <td>a</td>\n",
       "      <td>19787.7584</td>\n",
       "    </tr>\n",
       "    <tr>\n",
       "      <th>...</th>\n",
       "      <td>...</td>\n",
       "      <td>...</td>\n",
       "    </tr>\n",
       "    <tr>\n",
       "      <th>221319</th>\n",
       "      <td>ab-soul</td>\n",
       "      <td>0.1291</td>\n",
       "    </tr>\n",
       "    <tr>\n",
       "      <th>221320</th>\n",
       "      <td>ab-only</td>\n",
       "      <td>0.0646</td>\n",
       "    </tr>\n",
       "    <tr>\n",
       "      <th>221321</th>\n",
       "      <td>ab-focused</td>\n",
       "      <td>0.0000</td>\n",
       "    </tr>\n",
       "    <tr>\n",
       "      <th>221322</th>\n",
       "      <td>ab-extradition</td>\n",
       "      <td>0.0323</td>\n",
       "    </tr>\n",
       "    <tr>\n",
       "      <th>221323</th>\n",
       "      <td>ab-burning</td>\n",
       "      <td>0.0000</td>\n",
       "    </tr>\n",
       "  </tbody>\n",
       "</table>\n",
       "<p>221324 rows × 2 columns</p>\n",
       "</div>"
      ],
      "text/plain": [
       "                  Word      FreqPM\n",
       "0                  the  30240.5631\n",
       "1                  and  14144.8212\n",
       "2                   to  25419.6557\n",
       "3                    i  29597.6592\n",
       "4                    a  19787.7584\n",
       "...                ...         ...\n",
       "221319         ab-soul      0.1291\n",
       "221320         ab-only      0.0646\n",
       "221321      ab-focused      0.0000\n",
       "221322  ab-extradition      0.0323\n",
       "221323      ab-burning      0.0000\n",
       "\n",
       "[221324 rows x 2 columns]"
      ]
     },
     "execution_count": 461,
     "metadata": {},
     "output_type": "execute_result"
    }
   ],
   "source": [
    "lexicon"
   ]
  },
  {
   "cell_type": "markdown",
   "id": "interim-sector",
   "metadata": {},
   "source": [
    "## Profanost posameznih boardov v primerjavi s povprečjem 4chana in Twitterja"
   ]
  },
  {
   "cell_type": "markdown",
   "id": "russian-bennett",
   "metadata": {},
   "source": [
    "Da bo naše delo z leksikoni lažje, definiramo tri funkcije. Prva nam iz poljubnega podatkovnega podokvirja objav ustvari leksikon. Ta ima tri stolpce: *Word*, posamezne besede, *AbsFreq*, ki, nepresenetljivo, vsebuje prešteto število besed ter *FreqPM*, ki, kakor v našem standardnem leksikonu, vsebuje frekvenco dane besede na miljon besed. Drugi dve funkciji sta v resnici le okrajšavi prve in nam omogočata hitro pridobitev leksikona za dan board in državo."
   ]
  },
  {
   "cell_type": "code",
   "execution_count": 462,
   "id": "finished-technical",
   "metadata": {},
   "outputs": [],
   "source": [
    "def make_lexicon_from(frame):\n",
    "    lex = {}\n",
    "    word_count = 0\n",
    "    \n",
    "    for post in frame[\"com\"]:\n",
    "        try:\n",
    "            for word in post.split():\n",
    "                if lex.get(word, None) == None:\n",
    "                    lex[word] = 1\n",
    "                else:\n",
    "                    lex[word] += 1\n",
    "                word_count += 1\n",
    "        except Exception:\n",
    "            pass\n",
    "        \n",
    "    r_frame = pd.DataFrame(list(lex.items()), columns=[\"Word\", \"AbsFreq\"])\n",
    "    r_frame[\"FreqPM\"] = r_frame[\"AbsFreq\"].apply(lambda x: (x * (10 ** 6)) / word_count)\n",
    "\n",
    "    return r_frame\n",
    "\n",
    "def board_lexicon(board):\n",
    "    return make_lexicon_from(posts[posts.board == board])\n",
    "\n",
    "def country_lexicon(country):\n",
    "    return make_lexicon_from(posts[posts.country_name == country])\n",
    "    "
   ]
  },
  {
   "cell_type": "markdown",
   "id": "robust-episode",
   "metadata": {},
   "source": [
    "Glavna podmnožica, ki jo obravnavamo, je kar zbirka vseh objav iz vseh boardov. Za to definiramo poseben leksikon"
   ]
  },
  {
   "cell_type": "code",
   "execution_count": 463,
   "id": "characteristic-capitol",
   "metadata": {},
   "outputs": [
    {
     "data": {
      "text/html": [
       "<div>\n",
       "<style scoped>\n",
       "    .dataframe tbody tr th:only-of-type {\n",
       "        vertical-align: middle;\n",
       "    }\n",
       "\n",
       "    .dataframe tbody tr th {\n",
       "        vertical-align: top;\n",
       "    }\n",
       "\n",
       "    .dataframe thead th {\n",
       "        text-align: right;\n",
       "    }\n",
       "</style>\n",
       "<table border=\"1\" class=\"dataframe\">\n",
       "  <thead>\n",
       "    <tr style=\"text-align: right;\">\n",
       "      <th></th>\n",
       "      <th>Word</th>\n",
       "      <th>AbsFreq</th>\n",
       "      <th>FreqPM</th>\n",
       "    </tr>\n",
       "  </thead>\n",
       "  <tbody>\n",
       "    <tr>\n",
       "      <th>1</th>\n",
       "      <td>the</td>\n",
       "      <td>108100</td>\n",
       "      <td>35868.350875</td>\n",
       "    </tr>\n",
       "    <tr>\n",
       "      <th>24</th>\n",
       "      <td>a</td>\n",
       "      <td>71859</td>\n",
       "      <td>23843.328636</td>\n",
       "    </tr>\n",
       "    <tr>\n",
       "      <th>69</th>\n",
       "      <td>i</td>\n",
       "      <td>71599</td>\n",
       "      <td>23757.058782</td>\n",
       "    </tr>\n",
       "    <tr>\n",
       "      <th>33</th>\n",
       "      <td>to</td>\n",
       "      <td>66191</td>\n",
       "      <td>21962.645817</td>\n",
       "    </tr>\n",
       "    <tr>\n",
       "      <th>8</th>\n",
       "      <td>and</td>\n",
       "      <td>60416</td>\n",
       "      <td>20046.459635</td>\n",
       "    </tr>\n",
       "    <tr>\n",
       "      <th>...</th>\n",
       "      <td>...</td>\n",
       "      <td>...</td>\n",
       "      <td>...</td>\n",
       "    </tr>\n",
       "    <tr>\n",
       "      <th>50018</th>\n",
       "      <td>coronoa</td>\n",
       "      <td>1</td>\n",
       "      <td>0.331807</td>\n",
       "    </tr>\n",
       "    <tr>\n",
       "      <th>50019</th>\n",
       "      <td>kyuusei</td>\n",
       "      <td>1</td>\n",
       "      <td>0.331807</td>\n",
       "    </tr>\n",
       "    <tr>\n",
       "      <th>50021</th>\n",
       "      <td>ballkan</td>\n",
       "      <td>1</td>\n",
       "      <td>0.331807</td>\n",
       "    </tr>\n",
       "    <tr>\n",
       "      <th>50022</th>\n",
       "      <td>broadetty</td>\n",
       "      <td>1</td>\n",
       "      <td>0.331807</td>\n",
       "    </tr>\n",
       "    <tr>\n",
       "      <th>88076</th>\n",
       "      <td>tbqhwyff</td>\n",
       "      <td>1</td>\n",
       "      <td>0.331807</td>\n",
       "    </tr>\n",
       "  </tbody>\n",
       "</table>\n",
       "<p>88077 rows × 3 columns</p>\n",
       "</div>"
      ],
      "text/plain": [
       "            Word  AbsFreq        FreqPM\n",
       "1            the   108100  35868.350875\n",
       "24             a    71859  23843.328636\n",
       "69             i    71599  23757.058782\n",
       "33            to    66191  21962.645817\n",
       "8            and    60416  20046.459635\n",
       "...          ...      ...           ...\n",
       "50018    coronoa        1      0.331807\n",
       "50019    kyuusei        1      0.331807\n",
       "50021    ballkan        1      0.331807\n",
       "50022  broadetty        1      0.331807\n",
       "88076   tbqhwyff        1      0.331807\n",
       "\n",
       "[88077 rows x 3 columns]"
      ]
     },
     "execution_count": 463,
     "metadata": {},
     "output_type": "execute_result"
    }
   ],
   "source": [
    "chan_lexicon = make_lexicon_from(posts).sort_values(by=\"FreqPM\", ascending=False)\n",
    "chan_lexicon"
   ]
  },
  {
   "cell_type": "markdown",
   "id": "verbal-illinois",
   "metadata": {},
   "source": [
    "Kot primer: frekvenčna porazdelitev 15 najbolj pogostih besed v /po/, boardu za origami in papirno ustvarjanje in v naši osnovnici osnovani na Twitterju. Pričakovano še nismo prišli do skoraj nobenega samostalnika."
   ]
  },
  {
   "cell_type": "code",
   "execution_count": 464,
   "id": "honest-alignment",
   "metadata": {},
   "outputs": [
    {
     "data": {
      "text/html": [
       "<div>\n",
       "<style scoped>\n",
       "    .dataframe tbody tr th:only-of-type {\n",
       "        vertical-align: middle;\n",
       "    }\n",
       "\n",
       "    .dataframe tbody tr th {\n",
       "        vertical-align: top;\n",
       "    }\n",
       "\n",
       "    .dataframe thead th {\n",
       "        text-align: right;\n",
       "    }\n",
       "</style>\n",
       "<table border=\"1\" class=\"dataframe\">\n",
       "  <thead>\n",
       "    <tr style=\"text-align: right;\">\n",
       "      <th></th>\n",
       "      <th>Word</th>\n",
       "      <th>AbsFreq</th>\n",
       "      <th>FreqPM</th>\n",
       "    </tr>\n",
       "  </thead>\n",
       "  <tbody>\n",
       "    <tr>\n",
       "      <th>221</th>\n",
       "      <td>i</td>\n",
       "      <td>4609</td>\n",
       "      <td>37066.823223</td>\n",
       "    </tr>\n",
       "    <tr>\n",
       "      <th>27</th>\n",
       "      <td>the</td>\n",
       "      <td>4231</td>\n",
       "      <td>34026.845098</td>\n",
       "    </tr>\n",
       "    <tr>\n",
       "      <th>1</th>\n",
       "      <td>to</td>\n",
       "      <td>3074</td>\n",
       "      <td>24721.938509</td>\n",
       "    </tr>\n",
       "    <tr>\n",
       "      <th>142</th>\n",
       "      <td>it</td>\n",
       "      <td>2725</td>\n",
       "      <td>21915.186219</td>\n",
       "    </tr>\n",
       "    <tr>\n",
       "      <th>34</th>\n",
       "      <td>a</td>\n",
       "      <td>2687</td>\n",
       "      <td>21609.579952</td>\n",
       "    </tr>\n",
       "    <tr>\n",
       "      <th>84</th>\n",
       "      <td>you</td>\n",
       "      <td>2524</td>\n",
       "      <td>20298.689914</td>\n",
       "    </tr>\n",
       "    <tr>\n",
       "      <th>8</th>\n",
       "      <td>and</td>\n",
       "      <td>2330</td>\n",
       "      <td>18738.489501</td>\n",
       "    </tr>\n",
       "    <tr>\n",
       "      <th>22</th>\n",
       "      <td>of</td>\n",
       "      <td>1808</td>\n",
       "      <td>14540.424471</td>\n",
       "    </tr>\n",
       "    <tr>\n",
       "      <th>69</th>\n",
       "      <td>for</td>\n",
       "      <td>1556</td>\n",
       "      <td>12513.772388</td>\n",
       "    </tr>\n",
       "    <tr>\n",
       "      <th>17</th>\n",
       "      <td>is</td>\n",
       "      <td>1536</td>\n",
       "      <td>12352.926984</td>\n",
       "    </tr>\n",
       "    <tr>\n",
       "      <th>10</th>\n",
       "      <td>that</td>\n",
       "      <td>1535</td>\n",
       "      <td>12344.884714</td>\n",
       "    </tr>\n",
       "    <tr>\n",
       "      <th>15</th>\n",
       "      <td>this</td>\n",
       "      <td>1436</td>\n",
       "      <td>11548.699967</td>\n",
       "    </tr>\n",
       "    <tr>\n",
       "      <th>11</th>\n",
       "      <td>s</td>\n",
       "      <td>1278</td>\n",
       "      <td>10278.021280</td>\n",
       "    </tr>\n",
       "    <tr>\n",
       "      <th>227</th>\n",
       "      <td>t</td>\n",
       "      <td>1159</td>\n",
       "      <td>9320.991129</td>\n",
       "    </tr>\n",
       "    <tr>\n",
       "      <th>5</th>\n",
       "      <td>in</td>\n",
       "      <td>1122</td>\n",
       "      <td>9023.427133</td>\n",
       "    </tr>\n",
       "  </tbody>\n",
       "</table>\n",
       "</div>"
      ],
      "text/plain": [
       "     Word  AbsFreq        FreqPM\n",
       "221     i     4609  37066.823223\n",
       "27    the     4231  34026.845098\n",
       "1      to     3074  24721.938509\n",
       "142    it     2725  21915.186219\n",
       "34      a     2687  21609.579952\n",
       "84    you     2524  20298.689914\n",
       "8     and     2330  18738.489501\n",
       "22     of     1808  14540.424471\n",
       "69    for     1556  12513.772388\n",
       "17     is     1536  12352.926984\n",
       "10   that     1535  12344.884714\n",
       "15   this     1436  11548.699967\n",
       "11      s     1278  10278.021280\n",
       "227     t     1159   9320.991129\n",
       "5      in     1122   9023.427133"
      ]
     },
     "execution_count": 464,
     "metadata": {},
     "output_type": "execute_result"
    }
   ],
   "source": [
    "board_lexicon(\"po\").sort_values(by=\"FreqPM\", ascending=False).head(15)"
   ]
  },
  {
   "cell_type": "code",
   "execution_count": 465,
   "id": "constant-seafood",
   "metadata": {},
   "outputs": [
    {
     "data": {
      "text/html": [
       "<div>\n",
       "<style scoped>\n",
       "    .dataframe tbody tr th:only-of-type {\n",
       "        vertical-align: middle;\n",
       "    }\n",
       "\n",
       "    .dataframe tbody tr th {\n",
       "        vertical-align: top;\n",
       "    }\n",
       "\n",
       "    .dataframe thead th {\n",
       "        text-align: right;\n",
       "    }\n",
       "</style>\n",
       "<table border=\"1\" class=\"dataframe\">\n",
       "  <thead>\n",
       "    <tr style=\"text-align: right;\">\n",
       "      <th></th>\n",
       "      <th>Word</th>\n",
       "      <th>FreqPM</th>\n",
       "    </tr>\n",
       "  </thead>\n",
       "  <tbody>\n",
       "    <tr>\n",
       "      <th>0</th>\n",
       "      <td>the</td>\n",
       "      <td>30240.5631</td>\n",
       "    </tr>\n",
       "    <tr>\n",
       "      <th>3</th>\n",
       "      <td>i</td>\n",
       "      <td>29597.6592</td>\n",
       "    </tr>\n",
       "    <tr>\n",
       "      <th>2</th>\n",
       "      <td>to</td>\n",
       "      <td>25419.6557</td>\n",
       "    </tr>\n",
       "    <tr>\n",
       "      <th>4</th>\n",
       "      <td>a</td>\n",
       "      <td>19787.7584</td>\n",
       "    </tr>\n",
       "    <tr>\n",
       "      <th>11</th>\n",
       "      <td>you</td>\n",
       "      <td>19386.1533</td>\n",
       "    </tr>\n",
       "    <tr>\n",
       "      <th>1</th>\n",
       "      <td>and</td>\n",
       "      <td>14144.8212</td>\n",
       "    </tr>\n",
       "    <tr>\n",
       "      <th>10</th>\n",
       "      <td>for</td>\n",
       "      <td>12432.0357</td>\n",
       "    </tr>\n",
       "    <tr>\n",
       "      <th>7</th>\n",
       "      <td>it</td>\n",
       "      <td>12362.3415</td>\n",
       "    </tr>\n",
       "    <tr>\n",
       "      <th>6</th>\n",
       "      <td>in</td>\n",
       "      <td>12206.1025</td>\n",
       "    </tr>\n",
       "    <tr>\n",
       "      <th>5</th>\n",
       "      <td>of</td>\n",
       "      <td>11594.8984</td>\n",
       "    </tr>\n",
       "    <tr>\n",
       "      <th>9</th>\n",
       "      <td>is</td>\n",
       "      <td>11581.4373</td>\n",
       "    </tr>\n",
       "    <tr>\n",
       "      <th>12</th>\n",
       "      <td>s</td>\n",
       "      <td>10091.0340</td>\n",
       "    </tr>\n",
       "    <tr>\n",
       "      <th>16</th>\n",
       "      <td>my</td>\n",
       "      <td>9422.9835</td>\n",
       "    </tr>\n",
       "    <tr>\n",
       "      <th>15</th>\n",
       "      <td>on</td>\n",
       "      <td>8946.9712</td>\n",
       "    </tr>\n",
       "    <tr>\n",
       "      <th>8</th>\n",
       "      <td>that</td>\n",
       "      <td>8742.1820</td>\n",
       "    </tr>\n",
       "  </tbody>\n",
       "</table>\n",
       "</div>"
      ],
      "text/plain": [
       "    Word      FreqPM\n",
       "0    the  30240.5631\n",
       "3      i  29597.6592\n",
       "2     to  25419.6557\n",
       "4      a  19787.7584\n",
       "11   you  19386.1533\n",
       "1    and  14144.8212\n",
       "10   for  12432.0357\n",
       "7     it  12362.3415\n",
       "6     in  12206.1025\n",
       "5     of  11594.8984\n",
       "9     is  11581.4373\n",
       "12     s  10091.0340\n",
       "16    my   9422.9835\n",
       "15    on   8946.9712\n",
       "8   that   8742.1820"
      ]
     },
     "execution_count": 465,
     "metadata": {},
     "output_type": "execute_result"
    }
   ],
   "source": [
    "lexicon.sort_values(by=\"FreqPM\", ascending=False).head(15)"
   ]
  },
  {
   "cell_type": "markdown",
   "id": "blessed-witness",
   "metadata": {},
   "source": [
    "Eden izmed naših glavnih ciljev je karakterizacija podmnožic po profanosti. V ta namen definiramo par pomožnih funkcij: *subframe_containing_list_in* nam omogoča, da vzamemo podmnožico leksikona, ki vsebuje besede v danem seznamu. V praksi ga uporabimo, da vzamemo podmnožico leksikona profanih besed. Zato hitro definiramo *profane_lexicon*, ki vzame leksikon in vrne njegovo profano podmnožico. Naslednji dve funkciji nam omogočata grobo kategorizacijo profanosti danega leksikona - *total_freqPM* vrne skupno število besed na miljon danega leksikona (ki je včasih manjši od skupnega števila elementov, specifično se to zgodi v naši osnovni podatkovni množici s Twitterja), *total_profanity* pa uporabi prejšnjo, da izračuna število profanih besed na miljon v danem leksikonu."
   ]
  },
  {
   "cell_type": "code",
   "execution_count": 466,
   "id": "golden-syndrome",
   "metadata": {},
   "outputs": [],
   "source": [
    "def subframe_containing_list_in(frame, possibilities, attribute):\n",
    "    return frame[frame[attribute].apply(lambda x: x in possibilities)]\n",
    "\n",
    "def profane_lexicon(lexicon):\n",
    "    return subframe_containing_list_in(lexicon, profanity, \"Word\")\n",
    "\n",
    "def total_freqPM(lexicon):\n",
    "    try:\n",
    "        return sum(lexicon.FreqPM)\n",
    "    except Exception:\n",
    "        return None\n",
    "\n",
    "def total_profanity(lexicon):\n",
    "    return total_freqPM(profane_lexicon(lexicon))"
   ]
  },
  {
   "cell_type": "code",
   "execution_count": 467,
   "id": "growing-raising",
   "metadata": {},
   "outputs": [
    {
     "data": {
      "text/plain": [
       "<AxesSubplot:xlabel='Source'>"
      ]
     },
     "execution_count": 467,
     "metadata": {},
     "output_type": "execute_result"
    },
    {
     "data": {
      "image/png": "[encoded data removed]",
      "text/plain": [
       "<Figure size 432x288 with 1 Axes>"
      ]
     },
     "metadata": {
      "needs_background": "light"
     },
     "output_type": "display_data"
    }
   ],
   "source": [
    "board_profanities = [total_profanity(board_lexicon(board)) for board in boards] + [total_profanity(chan_lexicon), total_profanity(lexicon)]\n",
    "\n",
    "bp = pd.DataFrame.from_dict({\"Source\": boards + [\"4chan\", \"Twitter\"], \"Profanity\": board_profanities}).sort_values(by=\"Profanity\", ascending=False)\n",
    "bp.sort_values(by=\"Profanity\", ascending=False).plot.bar(x=\"Source\", y=\"Profanity\")"
   ]
  },
  {
   "cell_type": "markdown",
   "id": "actual-marks",
   "metadata": {},
   "source": [
    "Po pričakovanjih, dominira /b/ (Random) z več kot 20000 vulgarnostmi na milijon besed. 4chan sam po sebi jih ima malo več kot 10000/milijon. Vsi boardi pa močno dominirajo Twitter z manj kot 5000 vulgarnosti na milijon. Zanimivo na drugem mestu ni /pol/ (Politically Incorrect) po hipotezi, ampak /asp/ (Alternative Sports & Wrestling) ter /tv/ (Television & Film) - /pol/ je šele na 4. mestu. Prva predpostavka je tako delno potrjena - /b/ je močno slabši kot vsi ostali boardi, /pol/ pa je na še zmeraj visokem, a zmernejšem 4. mestu. Potrdili smo tudi hipotezo, da je register na 4chanu opazno bolj vulgaren, kot na naši osnovnici Twitter. Tudi na prvo žogo sodeč neškodljiv /po/ je skoraj dvakrat bolj profan od osnovnice."
   ]
  },
  {
   "cell_type": "markdown",
   "id": "recent-wellington",
   "metadata": {},
   "source": [
    "## Profanost posameznih držav\n",
    "\n",
    "4chan ima na nekaterih boardih majhne zastavice, ki kažejo na nacionalnost uporabnikov. Pozoren bralec je že tako ali tako zasledil nadaljevanje prejšnjega odseka v države - še funkcijo imamo pripravljeno. Oglejmo si najprej distribucijo naših objav."
   ]
  },
  {
   "cell_type": "code",
   "execution_count": 494,
   "id": "considered-alarm",
   "metadata": {},
   "outputs": [
    {
     "data": {
      "text/plain": [
       "country_name\n",
       "United States         14539\n",
       "United Kingdom         2973\n",
       "Canada                 2530\n",
       "Australia              1505\n",
       "Brazil                 1260\n",
       "Germany                1111\n",
       "Sweden                  716\n",
       "France                  648\n",
       "Portugal                622\n",
       "Mexico                  546\n",
       "Finland                 499\n",
       "Norway                  498\n",
       "Argentina               464\n",
       "Italy                   421\n",
       "Poland                  382\n",
       "Netherlands             366\n",
       "New Zealand             272\n",
       "Chile                   254\n",
       "Russian Federation      249\n",
       "Spain                   236\n",
       "Ireland                 225\n",
       "Denmark                 201\n",
       "Indonesia               182\n",
       "Japan                   167\n",
       "Turkey                  166\n",
       "Nazi                    151\n",
       "Pirate                  149\n",
       "Philippines             127\n",
       "Greece                  125\n",
       "Austria                 117\n",
       "dtype: int64"
      ]
     },
     "execution_count": 494,
     "metadata": {},
     "output_type": "execute_result"
    }
   ],
   "source": [
    "country_sizes = posts.groupby(\"country_name\").size().sort_values(ascending=False)\n",
    "country_sizes.head(30)"
   ]
  },
  {
   "cell_type": "markdown",
   "id": "acceptable-poland",
   "metadata": {},
   "source": [
    "Imamo torej 125 držav, od tega vodijo štiri angleško govoreče, sledita Brazilija in Nemčija. Omejili se bomo na države z najmanj 120 objavami. Na grafu se še bolj vidi, kako močno dominirajo Združene države ter druge angleško govoreče nacije."
   ]
  },
  {
   "cell_type": "code",
   "execution_count": 500,
   "id": "spare-murder",
   "metadata": {},
   "outputs": [
    {
     "data": {
      "text/plain": [
       "<AxesSubplot:xlabel='country_name'>"
      ]
     },
     "execution_count": 500,
     "metadata": {},
     "output_type": "execute_result"
    },
    {
     "data": {
      "image/png": "[encoded data removed]",
      "text/plain": [
       "<Figure size 432x288 with 1 Axes>"
      ]
     },
     "metadata": {
      "needs_background": "light"
     },
     "output_type": "display_data"
    }
   ],
   "source": [
    "country_sizes.head(20).plot.bar()"
   ]
  },
  {
   "cell_type": "markdown",
   "id": "alone-annotation",
   "metadata": {},
   "source": [
    "Da preverimo profanost najprej naredimo podokvir objav, katerih država je neprazna, potem pa še preverimo, da ima dovolj objav. "
   ]
  },
  {
   "cell_type": "code",
   "execution_count": 578,
   "id": "dress-cooperative",
   "metadata": {},
   "outputs": [
    {
     "data": {
      "text/html": [
       "<div>\n",
       "<style scoped>\n",
       "    .dataframe tbody tr th:only-of-type {\n",
       "        vertical-align: middle;\n",
       "    }\n",
       "\n",
       "    .dataframe tbody tr th {\n",
       "        vertical-align: top;\n",
       "    }\n",
       "\n",
       "    .dataframe thead th {\n",
       "        text-align: right;\n",
       "    }\n",
       "</style>\n",
       "<table border=\"1\" class=\"dataframe\">\n",
       "  <thead>\n",
       "    <tr style=\"text-align: right;\">\n",
       "      <th></th>\n",
       "      <th>no</th>\n",
       "      <th>resto</th>\n",
       "      <th>now</th>\n",
       "      <th>country_name</th>\n",
       "      <th>com</th>\n",
       "      <th>replies</th>\n",
       "      <th>board</th>\n",
       "    </tr>\n",
       "  </thead>\n",
       "  <tbody>\n",
       "    <tr>\n",
       "      <th>1</th>\n",
       "      <td>307559956</td>\n",
       "      <td>307559833</td>\n",
       "      <td>02/10/21(Wed)22:39:23</td>\n",
       "      <td>United States</td>\n",
       "      <td>fake amp gay slide thread</td>\n",
       "      <td>NaN</td>\n",
       "      <td>pol</td>\n",
       "    </tr>\n",
       "    <tr>\n",
       "      <th>3</th>\n",
       "      <td>307553218</td>\n",
       "      <td>0</td>\n",
       "      <td>02/10/21(Wed)21:38:37</td>\n",
       "      <td>Canada</td>\n",
       "      <td>help me could a b rother help me out</td>\n",
       "      <td>17.0</td>\n",
       "      <td>pol</td>\n",
       "    </tr>\n",
       "    <tr>\n",
       "      <th>4</th>\n",
       "      <td>307555431</td>\n",
       "      <td>307553218</td>\n",
       "      <td>02/10/21(Wed)21:58:37</td>\n",
       "      <td>United States</td>\n",
       "      <td>NaN</td>\n",
       "      <td>NaN</td>\n",
       "      <td>pol</td>\n",
       "    </tr>\n",
       "    <tr>\n",
       "      <th>5</th>\n",
       "      <td>307555669</td>\n",
       "      <td>307553218</td>\n",
       "      <td>02/10/21(Wed)22:00:32</td>\n",
       "      <td>United States</td>\n",
       "      <td>rayshard brooks the guy who tried to taser cop...</td>\n",
       "      <td>NaN</td>\n",
       "      <td>pol</td>\n",
       "    </tr>\n",
       "    <tr>\n",
       "      <th>6</th>\n",
       "      <td>307556342</td>\n",
       "      <td>307553218</td>\n",
       "      <td>02/10/21(Wed)22:06:37</td>\n",
       "      <td>Australia</td>\n",
       "      <td>the archives of gif they had a riot general ru...</td>\n",
       "      <td>NaN</td>\n",
       "      <td>pol</td>\n",
       "    </tr>\n",
       "    <tr>\n",
       "      <th>...</th>\n",
       "      <td>...</td>\n",
       "      <td>...</td>\n",
       "      <td>...</td>\n",
       "      <td>...</td>\n",
       "      <td>...</td>\n",
       "      <td>...</td>\n",
       "      <td>...</td>\n",
       "    </tr>\n",
       "    <tr>\n",
       "      <th>113876</th>\n",
       "      <td>139323119</td>\n",
       "      <td>139321586</td>\n",
       "      <td>02/10/21(Wed)21:57:47</td>\n",
       "      <td>Brazil</td>\n",
       "      <td>brazilian women are the easiest in the world</td>\n",
       "      <td>NaN</td>\n",
       "      <td>int</td>\n",
       "    </tr>\n",
       "    <tr>\n",
       "      <th>113877</th>\n",
       "      <td>139323130</td>\n",
       "      <td>139321586</td>\n",
       "      <td>02/10/21(Wed)21:58:10</td>\n",
       "      <td>Brazil</td>\n",
       "      <td>NaN</td>\n",
       "      <td>NaN</td>\n",
       "      <td>int</td>\n",
       "    </tr>\n",
       "    <tr>\n",
       "      <th>113878</th>\n",
       "      <td>139323155</td>\n",
       "      <td>139321586</td>\n",
       "      <td>02/10/21(Wed)21:59:13</td>\n",
       "      <td>Brazil</td>\n",
       "      <td>it s just your</td>\n",
       "      <td>NaN</td>\n",
       "      <td>int</td>\n",
       "    </tr>\n",
       "    <tr>\n",
       "      <th>113879</th>\n",
       "      <td>139323165</td>\n",
       "      <td>139321586</td>\n",
       "      <td>02/10/21(Wed)21:59:29</td>\n",
       "      <td>Brazil</td>\n",
       "      <td>is it just me or is the janny pruning all braz...</td>\n",
       "      <td>NaN</td>\n",
       "      <td>int</td>\n",
       "    </tr>\n",
       "    <tr>\n",
       "      <th>113880</th>\n",
       "      <td>139323329</td>\n",
       "      <td>139321586</td>\n",
       "      <td>02/10/21(Wed)22:06:45</td>\n",
       "      <td>Brazil</td>\n",
       "      <td>life for the average person in regards to sex ...</td>\n",
       "      <td>NaN</td>\n",
       "      <td>int</td>\n",
       "    </tr>\n",
       "  </tbody>\n",
       "</table>\n",
       "<p>31584 rows × 7 columns</p>\n",
       "</div>"
      ],
      "text/plain": [
       "               no      resto                    now   country_name  \\\n",
       "1       307559956  307559833  02/10/21(Wed)22:39:23  United States   \n",
       "3       307553218          0  02/10/21(Wed)21:38:37         Canada   \n",
       "4       307555431  307553218  02/10/21(Wed)21:58:37  United States   \n",
       "5       307555669  307553218  02/10/21(Wed)22:00:32  United States   \n",
       "6       307556342  307553218  02/10/21(Wed)22:06:37      Australia   \n",
       "...           ...        ...                    ...            ...   \n",
       "113876  139323119  139321586  02/10/21(Wed)21:57:47         Brazil   \n",
       "113877  139323130  139321586  02/10/21(Wed)21:58:10         Brazil   \n",
       "113878  139323155  139321586  02/10/21(Wed)21:59:13         Brazil   \n",
       "113879  139323165  139321586  02/10/21(Wed)21:59:29         Brazil   \n",
       "113880  139323329  139321586  02/10/21(Wed)22:06:45         Brazil   \n",
       "\n",
       "                                                      com  replies board  \n",
       "1                               fake amp gay slide thread      NaN   pol  \n",
       "3                    help me could a b rother help me out     17.0   pol  \n",
       "4                                                     NaN      NaN   pol  \n",
       "5       rayshard brooks the guy who tried to taser cop...      NaN   pol  \n",
       "6       the archives of gif they had a riot general ru...      NaN   pol  \n",
       "...                                                   ...      ...   ...  \n",
       "113876       brazilian women are the easiest in the world      NaN   int  \n",
       "113877                                                NaN      NaN   int  \n",
       "113878                                     it s just your      NaN   int  \n",
       "113879  is it just me or is the janny pruning all braz...      NaN   int  \n",
       "113880  life for the average person in regards to sex ...      NaN   int  \n",
       "\n",
       "[31584 rows x 7 columns]"
      ]
     },
     "execution_count": 578,
     "metadata": {},
     "output_type": "execute_result"
    }
   ],
   "source": [
    "nposts_with_countries = posts[~posts.country_name.isnull()]\n",
    "posts_from_big = posts_with_countries[posts_with_countries[\"country_name\"].apply(lambda x: country_sizes[x] >= 120)]\n",
    "posts_from_big"
   ]
  },
  {
   "cell_type": "markdown",
   "id": "representative-forestry",
   "metadata": {},
   "source": [
    "Nato za vsako izmed držav po prej definirani funkciji izračunamo stopnjo vulgarnosti ter jo prikažemu na histogramu in tabeliramo."
   ]
  },
  {
   "cell_type": "code",
   "execution_count": 562,
   "id": "passive-philippines",
   "metadata": {},
   "outputs": [
    {
     "data": {
      "text/plain": [
       "<AxesSubplot:xlabel='Source'>"
      ]
     },
     "execution_count": 562,
     "metadata": {},
     "output_type": "execute_result"
    },
    {
     "data": {
      "image/png": "[encoded data removed]",
      "text/plain": [
       "<Figure size 432x288 with 1 Axes>"
      ]
     },
     "metadata": {
      "needs_background": "light"
     },
     "output_type": "display_data"
    }
   ],
   "source": [
    "big_countries = country_sizes.head(30).index.array\n",
    "country_profanities = [total_profanity(country_lexicon(country)) for country in big_countries]\n",
    "\n",
    "cp = pd.DataFrame.from_dict({\"Source\": list(big_countries), \"Profanity\": country_profanities}).sort_values(by=\"Profanity\", ascending=False)\n",
    "cp.sort_values(by=\"Profanity\", ascending=False).plot.bar(x=\"Source\", y=\"Profanity\")"
   ]
  },
  {
   "cell_type": "markdown",
   "id": "voluntary-length",
   "metadata": {},
   "source": [
    "Rezultati so zanimivi, veliko prednost imajo Filipinci in Novozelandci, na daljnem tretjem mestu pa so nacisti (Poleg držav, odvisnih od lokacije, si uporabniki lahko izberejo tudi druge vrste zastav. Kdo bi si bil mislil). Upoštevajmo še velikost populacije - uporabil bom *ppp* (profanity per population) ter *pp* (profanity percentage).\n",
    "Prva je preprost kvocient profanosti / populacijo dane nacije, slednja pa gleda procent profanosti v skupini vseh velikih držav. Poleg tega imamo še *pppp* (profanity percentage per population), ki je prava Hegelianska sinteza *pp* in *ppp*. Je pa tu tudi zato, ker si avtor ni mogel pomagati in izpustiti tako priročne in prefinjejo prikladne priložnosti za ime še ene spremenljivke."
   ]
  },
  {
   "cell_type": "code",
   "execution_count": 595,
   "id": "surrounded-import",
   "metadata": {},
   "outputs": [
    {
     "data": {
      "text/html": [
       "<div>\n",
       "<style scoped>\n",
       "    .dataframe tbody tr th:only-of-type {\n",
       "        vertical-align: middle;\n",
       "    }\n",
       "\n",
       "    .dataframe tbody tr th {\n",
       "        vertical-align: top;\n",
       "    }\n",
       "\n",
       "    .dataframe thead th {\n",
       "        text-align: right;\n",
       "    }\n",
       "</style>\n",
       "<table border=\"1\" class=\"dataframe\">\n",
       "  <thead>\n",
       "    <tr style=\"text-align: right;\">\n",
       "      <th></th>\n",
       "      <th>Source</th>\n",
       "      <th>Profanity</th>\n",
       "      <th>pop</th>\n",
       "      <th>ppp</th>\n",
       "      <th>pp</th>\n",
       "      <th>pppp</th>\n",
       "    </tr>\n",
       "  </thead>\n",
       "  <tbody>\n",
       "    <tr>\n",
       "      <th>27</th>\n",
       "      <td>Philippines</td>\n",
       "      <td>19944.979367</td>\n",
       "      <td>127</td>\n",
       "      <td>157.047082</td>\n",
       "      <td>0.072176</td>\n",
       "      <td>0.000568</td>\n",
       "    </tr>\n",
       "    <tr>\n",
       "      <th>16</th>\n",
       "      <td>New Zealand</td>\n",
       "      <td>17302.259887</td>\n",
       "      <td>272</td>\n",
       "      <td>63.611250</td>\n",
       "      <td>0.062613</td>\n",
       "      <td>0.000230</td>\n",
       "    </tr>\n",
       "    <tr>\n",
       "      <th>25</th>\n",
       "      <td>Nazi</td>\n",
       "      <td>13627.254509</td>\n",
       "      <td>151</td>\n",
       "      <td>90.246719</td>\n",
       "      <td>0.049314</td>\n",
       "      <td>0.000327</td>\n",
       "    </tr>\n",
       "    <tr>\n",
       "      <th>28</th>\n",
       "      <td>Greece</td>\n",
       "      <td>13600.572656</td>\n",
       "      <td>125</td>\n",
       "      <td>108.804581</td>\n",
       "      <td>0.049217</td>\n",
       "      <td>0.000394</td>\n",
       "    </tr>\n",
       "    <tr>\n",
       "      <th>0</th>\n",
       "      <td>United States</td>\n",
       "      <td>13524.044390</td>\n",
       "      <td>14539</td>\n",
       "      <td>0.930191</td>\n",
       "      <td>0.048940</td>\n",
       "      <td>0.000003</td>\n",
       "    </tr>\n",
       "    <tr>\n",
       "      <th>29</th>\n",
       "      <td>Austria</td>\n",
       "      <td>12444.444444</td>\n",
       "      <td>117</td>\n",
       "      <td>106.362773</td>\n",
       "      <td>0.045034</td>\n",
       "      <td>0.000385</td>\n",
       "    </tr>\n",
       "    <tr>\n",
       "      <th>3</th>\n",
       "      <td>Australia</td>\n",
       "      <td>12105.804733</td>\n",
       "      <td>1505</td>\n",
       "      <td>8.043724</td>\n",
       "      <td>0.043808</td>\n",
       "      <td>0.000029</td>\n",
       "    </tr>\n",
       "    <tr>\n",
       "      <th>2</th>\n",
       "      <td>Canada</td>\n",
       "      <td>12096.418165</td>\n",
       "      <td>2530</td>\n",
       "      <td>4.781193</td>\n",
       "      <td>0.043774</td>\n",
       "      <td>0.000017</td>\n",
       "    </tr>\n",
       "    <tr>\n",
       "      <th>22</th>\n",
       "      <td>Indonesia</td>\n",
       "      <td>11895.321174</td>\n",
       "      <td>182</td>\n",
       "      <td>65.358908</td>\n",
       "      <td>0.043046</td>\n",
       "      <td>0.000237</td>\n",
       "    </tr>\n",
       "    <tr>\n",
       "      <th>19</th>\n",
       "      <td>Spain</td>\n",
       "      <td>10752.688172</td>\n",
       "      <td>236</td>\n",
       "      <td>45.562238</td>\n",
       "      <td>0.038911</td>\n",
       "      <td>0.000165</td>\n",
       "    </tr>\n",
       "    <tr>\n",
       "      <th>1</th>\n",
       "      <td>United Kingdom</td>\n",
       "      <td>10431.654676</td>\n",
       "      <td>2973</td>\n",
       "      <td>3.508797</td>\n",
       "      <td>0.037750</td>\n",
       "      <td>0.000013</td>\n",
       "    </tr>\n",
       "    <tr>\n",
       "      <th>4</th>\n",
       "      <td>Brazil</td>\n",
       "      <td>10241.882763</td>\n",
       "      <td>1260</td>\n",
       "      <td>8.128478</td>\n",
       "      <td>0.037063</td>\n",
       "      <td>0.000029</td>\n",
       "    </tr>\n",
       "    <tr>\n",
       "      <th>10</th>\n",
       "      <td>Finland</td>\n",
       "      <td>9682.503941</td>\n",
       "      <td>499</td>\n",
       "      <td>19.403816</td>\n",
       "      <td>0.035039</td>\n",
       "      <td>0.000070</td>\n",
       "    </tr>\n",
       "    <tr>\n",
       "      <th>6</th>\n",
       "      <td>Sweden</td>\n",
       "      <td>9383.688601</td>\n",
       "      <td>716</td>\n",
       "      <td>13.105710</td>\n",
       "      <td>0.033957</td>\n",
       "      <td>0.000047</td>\n",
       "    </tr>\n",
       "    <tr>\n",
       "      <th>9</th>\n",
       "      <td>Mexico</td>\n",
       "      <td>9069.130732</td>\n",
       "      <td>546</td>\n",
       "      <td>16.610130</td>\n",
       "      <td>0.032819</td>\n",
       "      <td>0.000060</td>\n",
       "    </tr>\n",
       "    <tr>\n",
       "      <th>20</th>\n",
       "      <td>Ireland</td>\n",
       "      <td>8939.974457</td>\n",
       "      <td>225</td>\n",
       "      <td>39.733220</td>\n",
       "      <td>0.032352</td>\n",
       "      <td>0.000144</td>\n",
       "    </tr>\n",
       "    <tr>\n",
       "      <th>18</th>\n",
       "      <td>Russian Federation</td>\n",
       "      <td>8530.183727</td>\n",
       "      <td>249</td>\n",
       "      <td>34.257766</td>\n",
       "      <td>0.030869</td>\n",
       "      <td>0.000124</td>\n",
       "    </tr>\n",
       "    <tr>\n",
       "      <th>23</th>\n",
       "      <td>Japan</td>\n",
       "      <td>8403.361345</td>\n",
       "      <td>167</td>\n",
       "      <td>50.319529</td>\n",
       "      <td>0.030410</td>\n",
       "      <td>0.000182</td>\n",
       "    </tr>\n",
       "    <tr>\n",
       "      <th>5</th>\n",
       "      <td>Germany</td>\n",
       "      <td>7223.187346</td>\n",
       "      <td>1111</td>\n",
       "      <td>6.501519</td>\n",
       "      <td>0.026139</td>\n",
       "      <td>0.000024</td>\n",
       "    </tr>\n",
       "    <tr>\n",
       "      <th>26</th>\n",
       "      <td>Pirate</td>\n",
       "      <td>6860.371267</td>\n",
       "      <td>149</td>\n",
       "      <td>46.042760</td>\n",
       "      <td>0.024826</td>\n",
       "      <td>0.000167</td>\n",
       "    </tr>\n",
       "    <tr>\n",
       "      <th>12</th>\n",
       "      <td>Argentina</td>\n",
       "      <td>6721.075372</td>\n",
       "      <td>464</td>\n",
       "      <td>14.485076</td>\n",
       "      <td>0.024322</td>\n",
       "      <td>0.000052</td>\n",
       "    </tr>\n",
       "    <tr>\n",
       "      <th>21</th>\n",
       "      <td>Denmark</td>\n",
       "      <td>6650.041563</td>\n",
       "      <td>201</td>\n",
       "      <td>33.084784</td>\n",
       "      <td>0.024065</td>\n",
       "      <td>0.000120</td>\n",
       "    </tr>\n",
       "    <tr>\n",
       "      <th>8</th>\n",
       "      <td>Portugal</td>\n",
       "      <td>6552.262090</td>\n",
       "      <td>622</td>\n",
       "      <td>10.534183</td>\n",
       "      <td>0.023711</td>\n",
       "      <td>0.000038</td>\n",
       "    </tr>\n",
       "    <tr>\n",
       "      <th>14</th>\n",
       "      <td>Poland</td>\n",
       "      <td>5565.862709</td>\n",
       "      <td>382</td>\n",
       "      <td>14.570321</td>\n",
       "      <td>0.020142</td>\n",
       "      <td>0.000053</td>\n",
       "    </tr>\n",
       "    <tr>\n",
       "      <th>7</th>\n",
       "      <td>France</td>\n",
       "      <td>5401.026195</td>\n",
       "      <td>648</td>\n",
       "      <td>8.334917</td>\n",
       "      <td>0.019545</td>\n",
       "      <td>0.000030</td>\n",
       "    </tr>\n",
       "    <tr>\n",
       "      <th>17</th>\n",
       "      <td>Chile</td>\n",
       "      <td>5394.190871</td>\n",
       "      <td>254</td>\n",
       "      <td>21.236972</td>\n",
       "      <td>0.019520</td>\n",
       "      <td>0.000077</td>\n",
       "    </tr>\n",
       "    <tr>\n",
       "      <th>15</th>\n",
       "      <td>Netherlands</td>\n",
       "      <td>4900.181488</td>\n",
       "      <td>366</td>\n",
       "      <td>13.388474</td>\n",
       "      <td>0.017733</td>\n",
       "      <td>0.000048</td>\n",
       "    </tr>\n",
       "    <tr>\n",
       "      <th>13</th>\n",
       "      <td>Italy</td>\n",
       "      <td>3579.952267</td>\n",
       "      <td>421</td>\n",
       "      <td>8.503450</td>\n",
       "      <td>0.012955</td>\n",
       "      <td>0.000031</td>\n",
       "    </tr>\n",
       "    <tr>\n",
       "      <th>24</th>\n",
       "      <td>Turkey</td>\n",
       "      <td>3346.346905</td>\n",
       "      <td>166</td>\n",
       "      <td>20.158716</td>\n",
       "      <td>0.012110</td>\n",
       "      <td>0.000073</td>\n",
       "    </tr>\n",
       "    <tr>\n",
       "      <th>11</th>\n",
       "      <td>Norway</td>\n",
       "      <td>2166.511916</td>\n",
       "      <td>498</td>\n",
       "      <td>4.350426</td>\n",
       "      <td>0.007840</td>\n",
       "      <td>0.000016</td>\n",
       "    </tr>\n",
       "  </tbody>\n",
       "</table>\n",
       "</div>"
      ],
      "text/plain": [
       "                Source     Profanity    pop         ppp        pp      pppp\n",
       "27         Philippines  19944.979367    127  157.047082  0.072176  0.000568\n",
       "16         New Zealand  17302.259887    272   63.611250  0.062613  0.000230\n",
       "25                Nazi  13627.254509    151   90.246719  0.049314  0.000327\n",
       "28              Greece  13600.572656    125  108.804581  0.049217  0.000394\n",
       "0        United States  13524.044390  14539    0.930191  0.048940  0.000003\n",
       "29             Austria  12444.444444    117  106.362773  0.045034  0.000385\n",
       "3            Australia  12105.804733   1505    8.043724  0.043808  0.000029\n",
       "2               Canada  12096.418165   2530    4.781193  0.043774  0.000017\n",
       "22           Indonesia  11895.321174    182   65.358908  0.043046  0.000237\n",
       "19               Spain  10752.688172    236   45.562238  0.038911  0.000165\n",
       "1       United Kingdom  10431.654676   2973    3.508797  0.037750  0.000013\n",
       "4               Brazil  10241.882763   1260    8.128478  0.037063  0.000029\n",
       "10             Finland   9682.503941    499   19.403816  0.035039  0.000070\n",
       "6               Sweden   9383.688601    716   13.105710  0.033957  0.000047\n",
       "9               Mexico   9069.130732    546   16.610130  0.032819  0.000060\n",
       "20             Ireland   8939.974457    225   39.733220  0.032352  0.000144\n",
       "18  Russian Federation   8530.183727    249   34.257766  0.030869  0.000124\n",
       "23               Japan   8403.361345    167   50.319529  0.030410  0.000182\n",
       "5              Germany   7223.187346   1111    6.501519  0.026139  0.000024\n",
       "26              Pirate   6860.371267    149   46.042760  0.024826  0.000167\n",
       "12           Argentina   6721.075372    464   14.485076  0.024322  0.000052\n",
       "21             Denmark   6650.041563    201   33.084784  0.024065  0.000120\n",
       "8             Portugal   6552.262090    622   10.534183  0.023711  0.000038\n",
       "14              Poland   5565.862709    382   14.570321  0.020142  0.000053\n",
       "7               France   5401.026195    648    8.334917  0.019545  0.000030\n",
       "17               Chile   5394.190871    254   21.236972  0.019520  0.000077\n",
       "15         Netherlands   4900.181488    366   13.388474  0.017733  0.000048\n",
       "13               Italy   3579.952267    421    8.503450  0.012955  0.000031\n",
       "24              Turkey   3346.346905    166   20.158716  0.012110  0.000073\n",
       "11              Norway   2166.511916    498    4.350426  0.007840  0.000016"
      ]
     },
     "execution_count": 595,
     "metadata": {},
     "output_type": "execute_result"
    }
   ],
   "source": [
    "cp[\"pop\"] = cp.Source.apply(lambda x: country_sizes[x])\n",
    "cp[\"ppp\"] = cp[\"Profanity\"] / cp [\"pop\"]\n",
    "\n",
    "skupna_profanost = sum(cp[\"Profanity\"])\n",
    "cp[\"pp\"] = cp[\"Profanity\"] / skupna_profanost\n",
    "\n",
    "cp[\"pppp\"] = cp[\"pp\"] / cp[\"pop\"]\n",
    "\n",
    "cp.sort_values(by=\"pp\", ascending=False)"
   ]
  },
  {
   "cell_type": "code",
   "execution_count": 591,
   "id": "royal-thickness",
   "metadata": {},
   "outputs": [
    {
     "data": {
      "text/plain": [
       "<AxesSubplot:xlabel='Source'>"
      ]
     },
     "execution_count": 591,
     "metadata": {},
     "output_type": "execute_result"
    },
    {
     "data": {
      "image/png": "[encoded data removed]",
      "text/plain": [
       "<Figure size 432x288 with 1 Axes>"
      ]
     },
     "metadata": {
      "needs_background": "light"
     },
     "output_type": "display_data"
    }
   ],
   "source": [
    "cp.sort_values(by=\"ppp\", ascending=False).plot.bar(x=\"Source\", y=\"ppp\")"
   ]
  },
  {
   "cell_type": "code",
   "execution_count": 592,
   "id": "unsigned-junior",
   "metadata": {},
   "outputs": [
    {
     "data": {
      "text/plain": [
       "<AxesSubplot:xlabel='Source'>"
      ]
     },
     "execution_count": 592,
     "metadata": {},
     "output_type": "execute_result"
    },
    {
     "data": {
      "image/png": "[encoded data removed]",
      "text/plain": [
       "<Figure size 432x288 with 1 Axes>"
      ]
     },
     "metadata": {
      "needs_background": "light"
     },
     "output_type": "display_data"
    }
   ],
   "source": [
    "cp.sort_values(by=\"pp\", ascending=False).plot.bar(x=\"Source\", y=\"pp\")"
   ]
  },
  {
   "cell_type": "code",
   "execution_count": 596,
   "id": "portable-dancing",
   "metadata": {},
   "outputs": [
    {
     "data": {
      "text/plain": [
       "<AxesSubplot:xlabel='Source'>"
      ]
     },
     "execution_count": 596,
     "metadata": {},
     "output_type": "execute_result"
    },
    {
     "data": {
      "image/png": "[encoded data removed]",
      "text/plain": [
       "<Figure size 432x288 with 1 Axes>"
      ]
     },
     "metadata": {
      "needs_background": "light"
     },
     "output_type": "display_data"
    }
   ],
   "source": [
    "cp.sort_values(by=\"pppp\", ascending=False).plot.bar(x=\"Source\", y=\"pppp\")"
   ]
  },
  {
   "cell_type": "markdown",
   "id": "configured-niagara",
   "metadata": {},
   "source": [
    "Podatki so zanimivi. V obeh prirejenih oblikah še zmeraj dominirajo Filipini, imamo pa ogromno odstopanje glede Američanov - čeprav so v *pp* na (ne)spoštljivem petem mestu, so v *ppp*, torej vulgarnosti na objavo v samem dnu! Vrednost *pppp* ima povsem enak vrstni red kot *ppp*, glede česar avtor ne najde kvalitetnega komentarja. "
   ]
  },
  {
   "cell_type": "markdown",
   "id": "second-contribution",
   "metadata": {},
   "source": [
    "## Niti 4-chana\n",
    "\n",
    "Želimo si ogledati uspešnost posameznih niti objav. Naša delovna hipoteza glede le-teh je, da je profanost korelirana s popularnostjo. Za posamezno nit ustvarimo leksikon tako, da vzamemo podmnožico, ki referencira glavno objavo v niti, in s prejšnjo funkcijo naredimo leksikon. To naredita funkciji *get_whole_thread* in *make_thread_lexicon*. Nazadnje še z *get_thread_profanity* izračunamo stopnjo profanosti posamezne niti."
   ]
  },
  {
   "cell_type": "code",
   "execution_count": 468,
   "id": "killing-phoenix",
   "metadata": {},
   "outputs": [],
   "source": [
    "def get_whole_thread(frame, board, head_no):\n",
    "    return frame[(frame[\"board\"] == board) & ((posts[\"resto\"] == head_no) | (posts[\"no\"] == cid))]\n",
    "\n",
    "def make_thread_lexicon(cbd, cid):\n",
    "    return make_lexicon_from(get_whole_thread(posts, cbd, cid)).sort_values(\"FreqPM\", ascending=False)\n",
    "\n",
    "def get_thread_profanity(cbd, cid):\n",
    "    return total_profanity(make_thread_lexicon(cbd, cid))"
   ]
  },
  {
   "cell_type": "markdown",
   "id": "married-reduction",
   "metadata": {},
   "source": [
    "Za začetek samo vzamemo podmnožico glavnih objav - te so ravno tiste s poljem \"resto\" enakim 0."
   ]
  },
  {
   "cell_type": "code",
   "execution_count": 475,
   "id": "impossible-corruption",
   "metadata": {},
   "outputs": [],
   "source": [
    "threads = posts[(posts[\"resto\"] == 0)].sort_values(by=\"replies\", ascending=False)"
   ]
  },
  {
   "cell_type": "markdown",
   "id": "intensive-security",
   "metadata": {},
   "source": [
    "Nato temu okvirju dodamo nov stolpec - izračunana stopnja profanosti.\n",
    "**Opozorilo: naslednja celica se izvaja relativno dolgo.**"
   ]
  },
  {
   "cell_type": "code",
   "execution_count": 476,
   "id": "streaming-garbage",
   "metadata": {},
   "outputs": [],
   "source": [
    "threads[\"profanity\"] = np.vectorize(get_thread_profanity)(threads[\"board\"], threads[\"no\"])"
   ]
  },
  {
   "cell_type": "markdown",
   "id": "spiritual-violation",
   "metadata": {},
   "source": [
    "Zdaj si lahko ogledamo odvisnost profanosti in števila odgovorov:"
   ]
  },
  {
   "cell_type": "code",
   "execution_count": 477,
   "id": "amazing-trace",
   "metadata": {
    "scrolled": true
   },
   "outputs": [
    {
     "data": {
      "text/plain": [
       "<AxesSubplot:xlabel='replies', ylabel='profanity'>"
      ]
     },
     "execution_count": 477,
     "metadata": {},
     "output_type": "execute_result"
    },
    {
     "data": {
      "image/png": "[encoded data removed]",
      "text/plain": [
       "<Figure size 432x288 with 1 Axes>"
      ]
     },
     "metadata": {
      "needs_background": "light"
     },
     "output_type": "display_data"
    }
   ],
   "source": [
    "threads.plot.scatter(x=\"replies\", y=\"profanity\")"
   ]
  },
  {
   "cell_type": "markdown",
   "id": "phantom-breath",
   "metadata": {},
   "source": [
    "Imamo par oddaljencev, zato približamo."
   ]
  },
  {
   "cell_type": "code",
   "execution_count": 818,
   "id": "dietary-reservation",
   "metadata": {},
   "outputs": [
    {
     "data": {
      "text/plain": [
       "<AxesSubplot:xlabel='replies', ylabel='profanity'>"
      ]
     },
     "execution_count": 818,
     "metadata": {},
     "output_type": "execute_result"
    },
    {
     "data": {
      "image/png": "[encoded data removed]",
      "text/plain": [
       "<Figure size 432x288 with 1 Axes>"
      ]
     },
     "metadata": {
      "needs_background": "light"
     },
     "output_type": "display_data"
    }
   ],
   "source": [
    "threads[(threads[\"replies\"] < 600) & (threads[\"profanity\"] < 50000)].plot.scatter(x=\"replies\", y=\"profanity\")"
   ]
  },
  {
   "cell_type": "markdown",
   "id": "bridal-jones",
   "metadata": {},
   "source": [
    "Za objave z veliko odgovori vidimo negativno korelacijo. Ker ima na 4chanu večina objav manj kot nekaj sto odgovorov (veliki se nahajajo v glavnem v počasnejših boardih, kjer se odgovori nabirajo dolgo), si oglejmo še, kaj se dogaja pri nitih z manj kot 50 odgovori."
   ]
  },
  {
   "cell_type": "code",
   "execution_count": 472,
   "id": "spare-gallery",
   "metadata": {},
   "outputs": [
    {
     "data": {
      "text/plain": [
       "<AxesSubplot:xlabel='replies', ylabel='profanity'>"
      ]
     },
     "execution_count": 472,
     "metadata": {},
     "output_type": "execute_result"
    },
    {
     "data": {
      "image/png": "[encoded data removed]",
      "text/plain": [
       "<Figure size 432x288 with 1 Axes>"
      ]
     },
     "metadata": {
      "needs_background": "light"
     },
     "output_type": "display_data"
    }
   ],
   "source": [
    "threads[(threads[\"replies\"] < 50) & (threads[\"profanity\"] < 50000)].plot.scatter(x=\"replies\", y=\"profanity\")"
   ]
  },
  {
   "cell_type": "markdown",
   "id": "provincial-motivation",
   "metadata": {},
   "source": [
    "Še zmeraj vidimo rahlo negativno korelacijo. Sklepam, da je razlog za to dejstvo, da je pri objavah z majhnim številom odgovorov odstotek profanih števil potencialno lahko zelo visok. Če ima objava več kot le nekaj odgovorov je verjetnost, da ima odgovore s substanco večja. Na žalost pa moji trenutni analizi primankuje semantičnost, zato hipoteze ne morem raziskati naprej.\n",
    "\n",
    "Smo pa ovrgli delovno hipotezo, da so hujše objave popularnejše, saj pozitivne korelacije ni bilo nikjer."
   ]
  },
  {
   "cell_type": "markdown",
   "id": "pleasant-cancer",
   "metadata": {},
   "source": [
    "## Kako gre čas, vulgarneži\n",
    "\n",
    "Raziskujemo stopnjo profanosti skozi čas dneva (v urah EST). Najprej si oglejmo, koliko objav je narejeno v posameznem času."
   ]
  },
  {
   "cell_type": "code",
   "execution_count": 609,
   "id": "consecutive-casting",
   "metadata": {},
   "outputs": [
    {
     "data": {
      "text/html": [
       "<div>\n",
       "<style scoped>\n",
       "    .dataframe tbody tr th:only-of-type {\n",
       "        vertical-align: middle;\n",
       "    }\n",
       "\n",
       "    .dataframe tbody tr th {\n",
       "        vertical-align: top;\n",
       "    }\n",
       "\n",
       "    .dataframe thead th {\n",
       "        text-align: right;\n",
       "    }\n",
       "</style>\n",
       "<table border=\"1\" class=\"dataframe\">\n",
       "  <thead>\n",
       "    <tr style=\"text-align: right;\">\n",
       "      <th></th>\n",
       "      <th>no</th>\n",
       "      <th>resto</th>\n",
       "      <th>now</th>\n",
       "      <th>country_name</th>\n",
       "      <th>com</th>\n",
       "      <th>replies</th>\n",
       "      <th>board</th>\n",
       "      <th>hour</th>\n",
       "    </tr>\n",
       "  </thead>\n",
       "  <tbody>\n",
       "    <tr>\n",
       "      <th>0</th>\n",
       "      <td>307559833</td>\n",
       "      <td>0</td>\n",
       "      <td>02/10/21(Wed)22:38:12</td>\n",
       "      <td>Commie</td>\n",
       "      <td>what the hell is wrong with the tiktok black a...</td>\n",
       "      <td>2.0</td>\n",
       "      <td>pol</td>\n",
       "      <td>22</td>\n",
       "    </tr>\n",
       "    <tr>\n",
       "      <th>1</th>\n",
       "      <td>307559956</td>\n",
       "      <td>307559833</td>\n",
       "      <td>02/10/21(Wed)22:39:23</td>\n",
       "      <td>United States</td>\n",
       "      <td>fake amp gay slide thread</td>\n",
       "      <td>NaN</td>\n",
       "      <td>pol</td>\n",
       "      <td>22</td>\n",
       "    </tr>\n",
       "    <tr>\n",
       "      <th>2</th>\n",
       "      <td>307559978</td>\n",
       "      <td>307559833</td>\n",
       "      <td>02/10/21(Wed)22:39:37</td>\n",
       "      <td>Commie</td>\n",
       "      <td>she no white tik tok no problem</td>\n",
       "      <td>NaN</td>\n",
       "      <td>pol</td>\n",
       "      <td>22</td>\n",
       "    </tr>\n",
       "    <tr>\n",
       "      <th>3</th>\n",
       "      <td>307553218</td>\n",
       "      <td>0</td>\n",
       "      <td>02/10/21(Wed)21:38:37</td>\n",
       "      <td>Canada</td>\n",
       "      <td>help me could a b rother help me out</td>\n",
       "      <td>17.0</td>\n",
       "      <td>pol</td>\n",
       "      <td>21</td>\n",
       "    </tr>\n",
       "    <tr>\n",
       "      <th>4</th>\n",
       "      <td>307555431</td>\n",
       "      <td>307553218</td>\n",
       "      <td>02/10/21(Wed)21:58:37</td>\n",
       "      <td>United States</td>\n",
       "      <td>NaN</td>\n",
       "      <td>NaN</td>\n",
       "      <td>pol</td>\n",
       "      <td>21</td>\n",
       "    </tr>\n",
       "    <tr>\n",
       "      <th>...</th>\n",
       "      <td>...</td>\n",
       "      <td>...</td>\n",
       "      <td>...</td>\n",
       "      <td>...</td>\n",
       "      <td>...</td>\n",
       "      <td>...</td>\n",
       "      <td>...</td>\n",
       "      <td>...</td>\n",
       "    </tr>\n",
       "    <tr>\n",
       "      <th>206110</th>\n",
       "      <td>216228239</td>\n",
       "      <td>216228103</td>\n",
       "      <td>02/11/21(Thu)12:43:15</td>\n",
       "      <td>NaN</td>\n",
       "      <td>sneed</td>\n",
       "      <td>NaN</td>\n",
       "      <td>a</td>\n",
       "      <td>12</td>\n",
       "    </tr>\n",
       "    <tr>\n",
       "      <th>206111</th>\n",
       "      <td>216229527</td>\n",
       "      <td>216228103</td>\n",
       "      <td>02/11/21(Thu)13:06:05</td>\n",
       "      <td>NaN</td>\n",
       "      <td>the part would have been way better if it was ...</td>\n",
       "      <td>NaN</td>\n",
       "      <td>a</td>\n",
       "      <td>13</td>\n",
       "    </tr>\n",
       "    <tr>\n",
       "      <th>206112</th>\n",
       "      <td>216229596</td>\n",
       "      <td>216228103</td>\n",
       "      <td>02/11/21(Thu)13:07:07</td>\n",
       "      <td>NaN</td>\n",
       "      <td>the only fun parts are josuke and the other in...</td>\n",
       "      <td>NaN</td>\n",
       "      <td>a</td>\n",
       "      <td>13</td>\n",
       "    </tr>\n",
       "    <tr>\n",
       "      <th>206113</th>\n",
       "      <td>216231238</td>\n",
       "      <td>216228103</td>\n",
       "      <td>02/11/21(Thu)13:36:19</td>\n",
       "      <td>NaN</td>\n",
       "      <td>who</td>\n",
       "      <td>NaN</td>\n",
       "      <td>a</td>\n",
       "      <td>13</td>\n",
       "    </tr>\n",
       "    <tr>\n",
       "      <th>206114</th>\n",
       "      <td>216233169</td>\n",
       "      <td>216228103</td>\n",
       "      <td>02/11/21(Thu)14:11:59</td>\n",
       "      <td>NaN</td>\n",
       "      <td>i share the same thoughts op tbqhwyff to be qu...</td>\n",
       "      <td>NaN</td>\n",
       "      <td>a</td>\n",
       "      <td>14</td>\n",
       "    </tr>\n",
       "  </tbody>\n",
       "</table>\n",
       "<p>206115 rows × 8 columns</p>\n",
       "</div>"
      ],
      "text/plain": [
       "               no      resto                    now   country_name  \\\n",
       "0       307559833          0  02/10/21(Wed)22:38:12         Commie   \n",
       "1       307559956  307559833  02/10/21(Wed)22:39:23  United States   \n",
       "2       307559978  307559833  02/10/21(Wed)22:39:37         Commie   \n",
       "3       307553218          0  02/10/21(Wed)21:38:37         Canada   \n",
       "4       307555431  307553218  02/10/21(Wed)21:58:37  United States   \n",
       "...           ...        ...                    ...            ...   \n",
       "206110  216228239  216228103  02/11/21(Thu)12:43:15            NaN   \n",
       "206111  216229527  216228103  02/11/21(Thu)13:06:05            NaN   \n",
       "206112  216229596  216228103  02/11/21(Thu)13:07:07            NaN   \n",
       "206113  216231238  216228103  02/11/21(Thu)13:36:19            NaN   \n",
       "206114  216233169  216228103  02/11/21(Thu)14:11:59            NaN   \n",
       "\n",
       "                                                      com  replies board  hour  \n",
       "0       what the hell is wrong with the tiktok black a...      2.0   pol    22  \n",
       "1                               fake amp gay slide thread      NaN   pol    22  \n",
       "2                         she no white tik tok no problem      NaN   pol    22  \n",
       "3                    help me could a b rother help me out     17.0   pol    21  \n",
       "4                                                     NaN      NaN   pol    21  \n",
       "...                                                   ...      ...   ...   ...  \n",
       "206110                                              sneed      NaN     a    12  \n",
       "206111  the part would have been way better if it was ...      NaN     a    13  \n",
       "206112  the only fun parts are josuke and the other in...      NaN     a    13  \n",
       "206113                                                who      NaN     a    13  \n",
       "206114  i share the same thoughts op tbqhwyff to be qu...      NaN     a    14  \n",
       "\n",
       "[206115 rows x 8 columns]"
      ]
     },
     "execution_count": 609,
     "metadata": {},
     "output_type": "execute_result"
    }
   ],
   "source": [
    "def extract_hour(time):\n",
    "    t = time[13:15]\n",
    "    if t[0] == 0:\n",
    "        return int(t[1])\n",
    "    else:\n",
    "        return int(t)\n",
    "\n",
    "timed_posts = posts\n",
    "timed_posts[\"hour\"] = posts[\"now\"].apply(extract_hour)\n",
    "timed_posts"
   ]
  },
  {
   "cell_type": "code",
   "execution_count": 619,
   "id": "aerial-uganda",
   "metadata": {},
   "outputs": [
    {
     "data": {
      "text/plain": [
       "<AxesSubplot:xlabel='hour'>"
      ]
     },
     "execution_count": 619,
     "metadata": {},
     "output_type": "execute_result"
    },
    {
     "data": {
      "image/png": "[encoded data removed]",
      "text/plain": [
       "<Figure size 432x288 with 1 Axes>"
      ]
     },
     "metadata": {
      "needs_background": "light"
     },
     "output_type": "display_data"
    }
   ],
   "source": [
    "timed_post_num = timed_posts.groupby(\"hour\").size()\n",
    "timed_post_num.plot.bar()"
   ]
  },
  {
   "cell_type": "markdown",
   "id": "governing-ballot",
   "metadata": {},
   "source": [
    "Število objav se stopnjuje od polnoči do desetih zvečer, nato okrog enajstih bistveno upade. Zelo pričakovano, če sodimo po dejstvu, da ima večina uporabnikov naslednji dan pouk. Glede na odstotek Američanov med vsemi objavami se nam tudi ni škoda omejiti na predpostavko, da je čas, ki ga imamo tu enak kot čas v smislu časa v dnevu.\n",
    "\n",
    "Naslednji korak je, kot pri državah, izolirati frekvenčne leksikone za razne ure v dnevu. Dodamo še eno pomožno funkcijo za konstrukcije leksikonov (če bi jo bralcu razkril že prej, ne bi mogel uživati v presenečenju še ene kategoričnosti, glede katere lahko obravnavamo profanost!). Analogno kot pri državah bomo obravnavali tudi relativno profanost."
   ]
  },
  {
   "cell_type": "code",
   "execution_count": 613,
   "id": "advisory-drawing",
   "metadata": {},
   "outputs": [
    {
     "data": {
      "text/plain": [
       "<AxesSubplot:xlabel='Source'>"
      ]
     },
     "execution_count": 613,
     "metadata": {},
     "output_type": "execute_result"
    },
    {
     "data": {
      "image/png": "[encoded data removed]",
      "text/plain": [
       "<Figure size 432x288 with 1 Axes>"
      ]
     },
     "metadata": {
      "needs_background": "light"
     },
     "output_type": "display_data"
    }
   ],
   "source": [
    "def time_lexicon(time):\n",
    "    return make_lexicon_from(timed_posts[timed_posts[\"hour\"] == time])\n",
    "\n",
    "times = [x for x in range(0, 24)]\n",
    "time_profanities = [total_profanity(time_lexicon(time)) for time in times]\n",
    "\n",
    "tp = pd.DataFrame.from_dict({\"Source\": times, \"Profanity\": time_profanities})\n",
    "tp.plot.bar(x=\"Source\", y=\"Profanity\")"
   ]
  },
  {
   "cell_type": "code",
   "execution_count": 620,
   "id": "cardiac-peoples",
   "metadata": {},
   "outputs": [
    {
     "data": {
      "text/html": [
       "<div>\n",
       "<style scoped>\n",
       "    .dataframe tbody tr th:only-of-type {\n",
       "        vertical-align: middle;\n",
       "    }\n",
       "\n",
       "    .dataframe tbody tr th {\n",
       "        vertical-align: top;\n",
       "    }\n",
       "\n",
       "    .dataframe thead th {\n",
       "        text-align: right;\n",
       "    }\n",
       "</style>\n",
       "<table border=\"1\" class=\"dataframe\">\n",
       "  <thead>\n",
       "    <tr style=\"text-align: right;\">\n",
       "      <th></th>\n",
       "      <th>Source</th>\n",
       "      <th>Profanity</th>\n",
       "      <th>freq</th>\n",
       "      <th>ppf</th>\n",
       "    </tr>\n",
       "  </thead>\n",
       "  <tbody>\n",
       "    <tr>\n",
       "      <th>0</th>\n",
       "      <td>0</td>\n",
       "      <td>9701.054700</td>\n",
       "      <td>4566</td>\n",
       "      <td>2.124629</td>\n",
       "    </tr>\n",
       "    <tr>\n",
       "      <th>1</th>\n",
       "      <td>1</td>\n",
       "      <td>10132.708821</td>\n",
       "      <td>4024</td>\n",
       "      <td>2.518069</td>\n",
       "    </tr>\n",
       "    <tr>\n",
       "      <th>2</th>\n",
       "      <td>2</td>\n",
       "      <td>9182.617693</td>\n",
       "      <td>3908</td>\n",
       "      <td>2.349697</td>\n",
       "    </tr>\n",
       "    <tr>\n",
       "      <th>3</th>\n",
       "      <td>3</td>\n",
       "      <td>9479.599316</td>\n",
       "      <td>3877</td>\n",
       "      <td>2.445086</td>\n",
       "    </tr>\n",
       "    <tr>\n",
       "      <th>4</th>\n",
       "      <td>4</td>\n",
       "      <td>9448.966227</td>\n",
       "      <td>4109</td>\n",
       "      <td>2.299578</td>\n",
       "    </tr>\n",
       "    <tr>\n",
       "      <th>5</th>\n",
       "      <td>5</td>\n",
       "      <td>9284.842254</td>\n",
       "      <td>4075</td>\n",
       "      <td>2.278489</td>\n",
       "    </tr>\n",
       "    <tr>\n",
       "      <th>6</th>\n",
       "      <td>6</td>\n",
       "      <td>10495.972636</td>\n",
       "      <td>4711</td>\n",
       "      <td>2.227971</td>\n",
       "    </tr>\n",
       "    <tr>\n",
       "      <th>7</th>\n",
       "      <td>7</td>\n",
       "      <td>10577.078439</td>\n",
       "      <td>5484</td>\n",
       "      <td>1.928716</td>\n",
       "    </tr>\n",
       "    <tr>\n",
       "      <th>8</th>\n",
       "      <td>8</td>\n",
       "      <td>10445.663002</td>\n",
       "      <td>7497</td>\n",
       "      <td>1.393312</td>\n",
       "    </tr>\n",
       "    <tr>\n",
       "      <th>9</th>\n",
       "      <td>9</td>\n",
       "      <td>9575.803898</td>\n",
       "      <td>6303</td>\n",
       "      <td>1.519245</td>\n",
       "    </tr>\n",
       "    <tr>\n",
       "      <th>10</th>\n",
       "      <td>10</td>\n",
       "      <td>8846.712415</td>\n",
       "      <td>5965</td>\n",
       "      <td>1.483104</td>\n",
       "    </tr>\n",
       "    <tr>\n",
       "      <th>11</th>\n",
       "      <td>11</td>\n",
       "      <td>9521.595771</td>\n",
       "      <td>7318</td>\n",
       "      <td>1.301120</td>\n",
       "    </tr>\n",
       "    <tr>\n",
       "      <th>12</th>\n",
       "      <td>12</td>\n",
       "      <td>9337.682938</td>\n",
       "      <td>8701</td>\n",
       "      <td>1.073174</td>\n",
       "    </tr>\n",
       "    <tr>\n",
       "      <th>13</th>\n",
       "      <td>13</td>\n",
       "      <td>9344.368588</td>\n",
       "      <td>8647</td>\n",
       "      <td>1.080649</td>\n",
       "    </tr>\n",
       "    <tr>\n",
       "      <th>14</th>\n",
       "      <td>14</td>\n",
       "      <td>8882.459508</td>\n",
       "      <td>9627</td>\n",
       "      <td>0.922661</td>\n",
       "    </tr>\n",
       "    <tr>\n",
       "      <th>15</th>\n",
       "      <td>15</td>\n",
       "      <td>8684.999921</td>\n",
       "      <td>8427</td>\n",
       "      <td>1.030616</td>\n",
       "    </tr>\n",
       "    <tr>\n",
       "      <th>16</th>\n",
       "      <td>16</td>\n",
       "      <td>9128.951923</td>\n",
       "      <td>9258</td>\n",
       "      <td>0.986061</td>\n",
       "    </tr>\n",
       "    <tr>\n",
       "      <th>17</th>\n",
       "      <td>17</td>\n",
       "      <td>8687.090261</td>\n",
       "      <td>10705</td>\n",
       "      <td>0.811498</td>\n",
       "    </tr>\n",
       "    <tr>\n",
       "      <th>18</th>\n",
       "      <td>18</td>\n",
       "      <td>10071.112576</td>\n",
       "      <td>10605</td>\n",
       "      <td>0.949657</td>\n",
       "    </tr>\n",
       "    <tr>\n",
       "      <th>19</th>\n",
       "      <td>19</td>\n",
       "      <td>11140.415656</td>\n",
       "      <td>13243</td>\n",
       "      <td>0.841231</td>\n",
       "    </tr>\n",
       "    <tr>\n",
       "      <th>20</th>\n",
       "      <td>20</td>\n",
       "      <td>11623.724600</td>\n",
       "      <td>16494</td>\n",
       "      <td>0.704724</td>\n",
       "    </tr>\n",
       "    <tr>\n",
       "      <th>21</th>\n",
       "      <td>21</td>\n",
       "      <td>12471.849699</td>\n",
       "      <td>18892</td>\n",
       "      <td>0.660166</td>\n",
       "    </tr>\n",
       "    <tr>\n",
       "      <th>22</th>\n",
       "      <td>22</td>\n",
       "      <td>13067.174245</td>\n",
       "      <td>21635</td>\n",
       "      <td>0.603983</td>\n",
       "    </tr>\n",
       "    <tr>\n",
       "      <th>23</th>\n",
       "      <td>23</td>\n",
       "      <td>9529.755556</td>\n",
       "      <td>8044</td>\n",
       "      <td>1.184704</td>\n",
       "    </tr>\n",
       "  </tbody>\n",
       "</table>\n",
       "</div>"
      ],
      "text/plain": [
       "    Source     Profanity   freq       ppf\n",
       "0        0   9701.054700   4566  2.124629\n",
       "1        1  10132.708821   4024  2.518069\n",
       "2        2   9182.617693   3908  2.349697\n",
       "3        3   9479.599316   3877  2.445086\n",
       "4        4   9448.966227   4109  2.299578\n",
       "5        5   9284.842254   4075  2.278489\n",
       "6        6  10495.972636   4711  2.227971\n",
       "7        7  10577.078439   5484  1.928716\n",
       "8        8  10445.663002   7497  1.393312\n",
       "9        9   9575.803898   6303  1.519245\n",
       "10      10   8846.712415   5965  1.483104\n",
       "11      11   9521.595771   7318  1.301120\n",
       "12      12   9337.682938   8701  1.073174\n",
       "13      13   9344.368588   8647  1.080649\n",
       "14      14   8882.459508   9627  0.922661\n",
       "15      15   8684.999921   8427  1.030616\n",
       "16      16   9128.951923   9258  0.986061\n",
       "17      17   8687.090261  10705  0.811498\n",
       "18      18  10071.112576  10605  0.949657\n",
       "19      19  11140.415656  13243  0.841231\n",
       "20      20  11623.724600  16494  0.704724\n",
       "21      21  12471.849699  18892  0.660166\n",
       "22      22  13067.174245  21635  0.603983\n",
       "23      23   9529.755556   8044  1.184704"
      ]
     },
     "execution_count": 620,
     "metadata": {},
     "output_type": "execute_result"
    }
   ],
   "source": [
    "tp[\"freq\"] = tp.Source.apply(lambda x: timed_post_num[x])\n",
    "tp[\"ppf\"] = tp[\"Profanity\"] / tp[\"freq\"]\n",
    "\n",
    "tp"
   ]
  },
  {
   "cell_type": "code",
   "execution_count": 623,
   "id": "normal-inventory",
   "metadata": {},
   "outputs": [
    {
     "data": {
      "text/plain": [
       "<AxesSubplot:xlabel='Source'>"
      ]
     },
     "execution_count": 623,
     "metadata": {},
     "output_type": "execute_result"
    },
    {
     "data": {
      "image/png": "[encoded data removed]",
      "text/plain": [
       "<Figure size 432x288 with 1 Axes>"
      ]
     },
     "metadata": {
      "needs_background": "light"
     },
     "output_type": "display_data"
    }
   ],
   "source": [
    "tp.plot.bar(x=\"Source\",y=\"ppf\")"
   ]
  },
  {
   "cell_type": "markdown",
   "id": "urban-coach",
   "metadata": {},
   "source": [
    "Tu se omejujemo le na *ppf* (profanity per frequency) in opažamo, da so objave ponoči in v ranem jutru bistveno bolj profane kot kasneje. Sodeč po razporeditvi profanostih glede na državo je tak rezultat pričakovan, saj so Združene države relativno neaktivne glede profanosti."
   ]
  },
  {
   "cell_type": "markdown",
   "id": "geological-subcommittee",
   "metadata": {},
   "source": [
    "## Klasifikacija teksta glede na board,\n",
    "\n",
    "#### kjer protagonist skuša ugotoviti, katero sadje je bilo to, zdaj gnilo in neprepoznavno, ki ga drži v roki, preden je bilo gnilo in neprepoznavno.\n",
    "\n",
    "V resnici uporabi metriko v prostoru frekvenčnih leksikonov. (le kdo bi si bil bil mislil) Najprej nastavimo, katere potencialne boarde bomo gledali. Za zdaj ga postavimo kar na seznam vseh board."
   ]
  },
  {
   "cell_type": "code",
   "execution_count": 790,
   "id": "another-management",
   "metadata": {},
   "outputs": [],
   "source": [
    "boards_to_check = boards"
   ]
  },
  {
   "cell_type": "markdown",
   "id": "detailed-cologne",
   "metadata": {},
   "source": [
    "Razdalja leksikonov je evklidska glede na vrednosti frekvenc besed, ki so v obeh. Za dan korpus torej zgeneriramo njegov frekvenčni leksikon in izračunamo njegovo razdaljo do leksikonov za vsak board in vrnemo tistega z najmanjšo razdaljo. Imamo funkciji *find_closest_board* in *find_closest_board_by_text* - prva vzame leksikon, druga pa sam tekst. Skozi teste ugotavljam, da deluje relativno dobro za dovolj velik korpus (spodaj imamo primer, kjer vzamemo podmnožice nekega boarda), a posamezna objava nima dovolj besed, da bi jo lahko dobro karakterizirali. Če vzamemo objave iz danega boarda z *resto == 0*, to je tiste, ki začnejo dano nit objav, jih funkcija pravilno klasificira, razen /int/, klasificiran kot /pol/, za katero sklepam, da je problem v dejstvu, da je veliko objav tam v ne-angleščini, torej v resnici preverjamo le angleške objave, ki so (nepresenetljivo) zelo podobne tistim na /pol/. "
   ]
  },
  {
   "cell_type": "code",
   "execution_count": 812,
   "id": "monthly-section",
   "metadata": {},
   "outputs": [],
   "source": [
    "def lexicon_distance(lex1, lex2):\n",
    "    common_indices = lex1.index.intersection(lex2.index)\n",
    "    new_frame = common_indices.to_frame()\n",
    "    new_frame[\"dist\"] = (lex1[\"FreqPM\"] - lex2[\"FreqPM\"]) ** 2\n",
    "    \n",
    "    return sum(new_frame[\"dist\"]) ** (1 / 2)\n",
    "\n",
    "def make_lexicon_from_text(text):\n",
    "    lex = {}\n",
    "    word_count = 0\n",
    "    \n",
    "    for post in text:\n",
    "        try:\n",
    "            for word in post.split():\n",
    "                if lex.get(word, None) == None:\n",
    "                    lex[word] = 1\n",
    "                else:\n",
    "                    lex[word] += 1\n",
    "                word_count += 1\n",
    "        except Exception:\n",
    "            pass\n",
    "        \n",
    "    r_frame = pd.DataFrame(list(lex.items()), columns=[\"Word\", \"AbsFreq\"])\n",
    "    r_frame[\"FreqPM\"] = r_frame[\"AbsFreq\"].apply(lambda x: (x * (10 ** 6)) / word_count)\n",
    "\n",
    "    return r_frame\n",
    "\n",
    "board_lexicons = {board : board_lexicon(board).sort_values(by=\"FreqPM\", ascending=False).set_index(\"Word\") for board in boards_to_check}\n",
    "\n",
    "def find_closest_board(lexicon):\n",
    "    lexicon = lexicon.sort_values(by=\"FreqPM\", ascending=False).set_index(\"Word\")\n",
    "    d = {board : lexicon_distance(lexicon, lexi) for (board, lexi) in board_lexicons.items()}\n",
    "    return sorted(d, key=d.get), min(d, key=d.get)\n",
    "    \n",
    "def find_closest_board_by_text(text):\n",
    "    lex = make_lexicon_from_text(text)\n",
    "    return find_closest_board(lex)\n",
    "    "
   ]
  },
  {
   "cell_type": "markdown",
   "id": "competent-kentucky",
   "metadata": {},
   "source": [
    "Primer dobro karakteriziranega korpusa."
   ]
  },
  {
   "cell_type": "code",
   "execution_count": 816,
   "id": "broadband-dance",
   "metadata": {},
   "outputs": [
    {
     "data": {
      "text/plain": [
       "(['out',\n",
       "  'r9k',\n",
       "  'po',\n",
       "  'b',\n",
       "  'g',\n",
       "  'ck',\n",
       "  'an',\n",
       "  'mu',\n",
       "  'k',\n",
       "  'lit',\n",
       "  'toy',\n",
       "  'sci',\n",
       "  'v',\n",
       "  'o',\n",
       "  'pol',\n",
       "  'int',\n",
       "  'asp',\n",
       "  'tv',\n",
       "  'a',\n",
       "  'sp',\n",
       "  'co',\n",
       "  'his'],\n",
       " 'out')"
      ]
     },
     "execution_count": 816,
     "metadata": {},
     "output_type": "execute_result"
    }
   ],
   "source": [
    "find_closest_board(make_lexicon_from(posts[(posts[\"board\"] == \"out\") & (posts[\"resto\"] == 0)]))"
   ]
  },
  {
   "cell_type": "markdown",
   "id": "willing-batch",
   "metadata": {},
   "source": [
    "Primer napačno karakterizirane objave (Vzeta iz /pol/ gledajoč le na dolžino) - pravi board je karakteriziran kot drugi najmanj verjeten."
   ]
  },
  {
   "cell_type": "code",
   "execution_count": 817,
   "id": "solid-trunk",
   "metadata": {},
   "outputs": [
    {
     "data": {
      "text/plain": [
       "(['int',\n",
       "  'o',\n",
       "  'r9k',\n",
       "  'po',\n",
       "  'g',\n",
       "  'k',\n",
       "  'toy',\n",
       "  'out',\n",
       "  'ck',\n",
       "  'mu',\n",
       "  'an',\n",
       "  'co',\n",
       "  'b',\n",
       "  'v',\n",
       "  'sp',\n",
       "  'asp',\n",
       "  'tv',\n",
       "  'lit',\n",
       "  'sci',\n",
       "  'a',\n",
       "  'pol',\n",
       "  'his'],\n",
       " 'int')"
      ]
     },
     "execution_count": 817,
     "metadata": {},
     "output_type": "execute_result"
    }
   ],
   "source": [
    "find_closest_board_by_text(\"how many shootings is enough how many more children need to die just so you fucking gun nuts can feel all powerful with your big black assault weapons just fucking face it the nd amendment was written by ignorant lunatics who had no idea about the problems we face today today we all have to be on high alert in case some autistic decides to reenact his cowadooty games and go shoot up a school when do we say enough is enough i propose a sensible solution you don't need bullets to kill a fucking deer every gun should only be capable of firing one bullet at a time and there should be a mandatory mechanism on every gun to prevent it from firing more than one bullet every hours if you small dicked gun nuts won't listen to reason and just give up your guns in the first place then we will have to take other measures to prevent more children from dying this is not there aren't roving gangs of barbarians at the gates and you can just abandon your macho hurr ima kill a home invader impotent fantasies because that literally never happens let me guess whenever you picture yourself confronting a man in your home at night you always picture a black man fucking racists all the guns in the world can't make your pathetic white dick any bigger so just give up already look at me i don't own guns or even knives and my house has never been broken into now why don't you join the rest of us in the fucking st century\")"
   ]
  },
  {
   "cell_type": "markdown",
   "id": "casual-tomato",
   "metadata": {},
   "source": [
    "Zanimiva bi bila primerjava te metode z Bayesovo klasifikacijo, ampak avtor potrebuje le dovolj točk, da projekt šteje kot opravljen, saj pod tem pogojem že ima dovolj skupnih točk za 10, hkrati pa je zaspan."
   ]
  },
  {
   "cell_type": "markdown",
   "id": "particular-armor",
   "metadata": {},
   "source": [
    "## Povzetek, zahvali in opravičili\n",
    "\n",
    "### Povzetek\n",
    "\n",
    "Spomnimo se delovnih hipotez in jih komentirajmo:\n",
    "1. /b/ in /pol/ sta slabša v vseh metrikah kot ostali boardi\n",
    "2. Vsi boardi so slabši od vsakdanjega registra\n",
    "3. Hujše objave so popularnejše\n",
    "4. Obstaja vsaj en board, ki ni usrana luknja\n",
    "\n",
    "Prva hipoteza je definitivno presenetila - res je, da je /b/ neprimerljivo slabši kot vsi ostali boardi, ampak po drugi strani je veliko več slabših boardov, kot bi si človek mislil, /pol/ pa je šele na četrtem mestu. Druga hipoteza je potemtakem povsem potrjena - povprečna vulgarnost 4chana je več kot dvakrat višja od naše osnovnice podatkov. Zopet zanimiva je tretja, saj smo ugotovili, da je med vulgarnostjo objave in njeno popularnostjo kvečjemu negativna korelacija, vsaj po metodah trenutne analize. Četrta hipoteza je tudi ovržena. Vsaj izmed boardov, ki smo jih analizirali, avtor ne vidi nobenega vrednega obiska zunaj morbidnega zanimanja za potencialno pet minut, preden se začne glavobol. Poleg na začetku postavljenih hipotez smo raziskali tudi profanost glede na državo in med drugim ugotovili, da ima 4chan poleg držav tudi opcijo nacistične zastave, katera glede profanosti presenetljivo ni na prvem mestu in da imajo Združene Države bistveno najmanj profanosti na posamezno objavo. Raziskali smo aktivnost in profanost skozi dan in ugotovili, da se dobro prilega hipotezi, da spletno stvar uporabljajo šolarji, glede na strm padec aktivnosti okoli 23. ure - po drugi strani je profanost najvišja v nočnih urah. Dodatna analiza, ki bi upoštevala različne časovne pasove bi bila zanimiva in jo puščam kot nalogo za ocenjevalca. Končali smo s poskusom klasifikacije teksta glede na board - to je, da za dano objavo oz. korpus le-teh najdemo board, v katerega se najbolj prilega, gledoč na naše frekvenčne leksikone. Podvig je delno uspešen - deluje za dovolj bogate korpuse teksta - a se kar močno zatakne pri pomanjkanju gradiva.\n",
    "\n",
    "### Opravičili in zahvali\n",
    "\n",
    "Avtor se za naprej in za nazaj opravičuje za kakršnekoli narobe postavljene vejice, ter občasno neformalnost v pisanju. Le-ti sta produkt dejstva, da je pretežno nočno bitje in mu rahlo primanjkuje spanca, pa tudi izpostavljenosti entiteti, ki je 4chan, še posebej v luči dejstva trenutnega političnega stanja v Ameriki, ki ga še dodatno napihuje. Hkrati se zahvaljuje samemu sebi, da si je izbral dovolj zanimivo temo, da je projekt dejansko spravil v obstoj in se na poti naučil stvar ali dve o analizi podatkov, še posebej glede tekstovne analize. Avtor se zahvaljuje tudi ocenjevalcu za njegov čas in dobro delo in upa, da mu je uspel vsaj malo polepšati izkušnjo ocenjevanja. Avtor je za pritožbe (in komplimente) (skoraj) vedno na voljo. Lep pozdrav."
   ]
  },
  {
   "cell_type": "code",
   "execution_count": null,
   "id": "indirect-asset",
   "metadata": {},
   "outputs": [],
   "source": []
  }
 ],
 "metadata": {
  "kernelspec": {
   "display_name": "Python 3",
   "language": "python",
   "name": "python3"
  },
  "language_info": {
   "codemirror_mode": {
    "name": "ipython",
    "version": 3
   },
   "file_extension": ".py",
   "mimetype": "text/x-python",
   "name": "python",
   "nbconvert_exporter": "python",
   "pygments_lexer": "ipython3",
   "version": "3.9.1"
  }
 },
 "nbformat": 4,
 "nbformat_minor": 5
}
